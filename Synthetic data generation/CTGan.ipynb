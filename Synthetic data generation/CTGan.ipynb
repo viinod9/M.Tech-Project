{
 "cells": [
  {
   "cell_type": "code",
   "execution_count": 1,
   "id": "15c43df6-36ac-43d3-ab09-7e1f63d6eb07",
   "metadata": {},
   "outputs": [
    {
     "name": "stdout",
     "output_type": "stream",
     "text": [
      "Python 3.10.15\n"
     ]
    }
   ],
   "source": [
    "!python --version"
   ]
  },
  {
   "cell_type": "code",
   "execution_count": 3,
   "id": "5270bd7c-8421-442b-9031-43a34ca7f6d0",
   "metadata": {},
   "outputs": [
    {
     "name": "stdout",
     "output_type": "stream",
     "text": [
      "Requirement already satisfied: pip in /opt/anaconda3/lib/python3.12/site-packages (24.0)\n",
      "Collecting pip\n",
      "  Downloading pip-24.3.1-py3-none-any.whl.metadata (3.7 kB)\n",
      "Downloading pip-24.3.1-py3-none-any.whl (1.8 MB)\n",
      "\u001b[2K   \u001b[90m━━━━━━━━━━━━━━━━━━━━━━━━━━━━━━━━━━━━━━━━\u001b[0m \u001b[32m1.8/1.8 MB\u001b[0m \u001b[31m455.6 kB/s\u001b[0m eta \u001b[36m0:00:00\u001b[0m00:01\u001b[0m00:01\u001b[0m\n",
      "\u001b[?25hInstalling collected packages: pip\n",
      "  Attempting uninstall: pip\n",
      "    Found existing installation: pip 24.0\n",
      "    Uninstalling pip-24.0:\n",
      "      Successfully uninstalled pip-24.0\n",
      "Successfully installed pip-24.3.1\n",
      "Note: you may need to restart the kernel to use updated packages.\n"
     ]
    }
   ],
   "source": [
    "pip install --upgrade pip"
   ]
  },
  {
   "cell_type": "code",
   "execution_count": 9,
   "id": "ed1c1785-ac3f-40d1-bd33-23c788c39c34",
   "metadata": {},
   "outputs": [
    {
     "name": "stdout",
     "output_type": "stream",
     "text": [
      "Python 3.10.15\n"
     ]
    }
   ],
   "source": [
    "!python --version"
   ]
  },
  {
   "cell_type": "code",
   "execution_count": 11,
   "id": "fc85f4c1-1e71-4ef0-b7b5-6ff8af54c922",
   "metadata": {},
   "outputs": [
    {
     "name": "stdout",
     "output_type": "stream",
     "text": [
      "Requirement already satisfied: sdv==0.18.0 in /Users/vinodkumar/.pyenv/versions/3.10.15/lib/python3.10/site-packages (0.18.0)\n",
      "Requirement already satisfied: graphviz<1,>=0.13.2 in /Users/vinodkumar/.pyenv/versions/3.10.15/lib/python3.10/site-packages (from sdv==0.18.0) (0.20.3)\n",
      "Requirement already satisfied: deepecho<0.5,>=0.4.0 in /Users/vinodkumar/.pyenv/versions/3.10.15/lib/python3.10/site-packages (from sdv==0.18.0) (0.4.2)\n",
      "Requirement already satisfied: tqdm<5,>=4.15 in /Users/vinodkumar/.pyenv/versions/3.10.15/lib/python3.10/site-packages (from sdv==0.18.0) (4.66.6)\n",
      "Requirement already satisfied: Faker<15,>=10 in /Users/vinodkumar/.pyenv/versions/3.10.15/lib/python3.10/site-packages (from sdv==0.18.0) (14.2.1)\n",
      "Requirement already satisfied: numpy<2,>=1.23.3 in /Users/vinodkumar/.pyenv/versions/3.10.15/lib/python3.10/site-packages (from sdv==0.18.0) (1.26.4)\n",
      "Requirement already satisfied: copulas<0.9,>=0.8.0 in /Users/vinodkumar/.pyenv/versions/3.10.15/lib/python3.10/site-packages (from sdv==0.18.0) (0.8.0)\n",
      "Requirement already satisfied: ctgan<0.8,>=0.7.0 in /Users/vinodkumar/.pyenv/versions/3.10.15/lib/python3.10/site-packages (from sdv==0.18.0) (0.7.5)\n",
      "Requirement already satisfied: cloudpickle<3.0,>=2.1.0 in /Users/vinodkumar/.pyenv/versions/3.10.15/lib/python3.10/site-packages (from sdv==0.18.0) (2.2.1)\n",
      "Requirement already satisfied: pandas<2,>=1.5.0 in /Users/vinodkumar/.pyenv/versions/3.10.15/lib/python3.10/site-packages (from sdv==0.18.0) (1.5.3)\n",
      "Requirement already satisfied: rdt<2,>=1.3.0 in /Users/vinodkumar/.pyenv/versions/3.10.15/lib/python3.10/site-packages (from sdv==0.18.0) (1.7.0)\n",
      "Requirement already satisfied: sdmetrics<0.10,>=0.9.0 in /Users/vinodkumar/.pyenv/versions/3.10.15/lib/python3.10/site-packages (from sdv==0.18.0) (0.9.3)\n",
      "Requirement already satisfied: matplotlib<4,>=3.6.0 in /Users/vinodkumar/.pyenv/versions/3.10.15/lib/python3.10/site-packages (from copulas<0.9,>=0.8.0->sdv==0.18.0) (3.9.2)\n",
      "Requirement already satisfied: scipy<2,>=1.9.2 in /Users/vinodkumar/.pyenv/versions/3.10.15/lib/python3.10/site-packages (from copulas<0.9,>=0.8.0->sdv==0.18.0) (1.14.1)\n",
      "Requirement already satisfied: scikit-learn<2,>=1.1.3 in /Users/vinodkumar/.pyenv/versions/3.10.15/lib/python3.10/site-packages (from ctgan<0.8,>=0.7.0->sdv==0.18.0) (1.5.2)\n",
      "Requirement already satisfied: torch>=1.11.0 in /Users/vinodkumar/.pyenv/versions/3.10.15/lib/python3.10/site-packages (from ctgan<0.8,>=0.7.0->sdv==0.18.0) (2.5.1)\n",
      "Requirement already satisfied: python-dateutil>=2.4 in /Users/vinodkumar/.pyenv/versions/3.10.15/lib/python3.10/site-packages (from Faker<15,>=10->sdv==0.18.0) (2.9.0.post0)\n",
      "Requirement already satisfied: pytz>=2020.1 in /Users/vinodkumar/.pyenv/versions/3.10.15/lib/python3.10/site-packages (from pandas<2,>=1.5.0->sdv==0.18.0) (2024.2)\n",
      "Requirement already satisfied: psutil<6,>=5.7 in /Users/vinodkumar/.pyenv/versions/3.10.15/lib/python3.10/site-packages (from rdt<2,>=1.3.0->sdv==0.18.0) (5.9.8)\n",
      "Requirement already satisfied: plotly<6,>=5.10.0 in /Users/vinodkumar/.pyenv/versions/3.10.15/lib/python3.10/site-packages (from sdmetrics<0.10,>=0.9.0->sdv==0.18.0) (5.24.1)\n",
      "Requirement already satisfied: pillow>=8 in /Users/vinodkumar/.pyenv/versions/3.10.15/lib/python3.10/site-packages (from matplotlib<4,>=3.6.0->copulas<0.9,>=0.8.0->sdv==0.18.0) (11.0.0)\n",
      "Requirement already satisfied: fonttools>=4.22.0 in /Users/vinodkumar/.pyenv/versions/3.10.15/lib/python3.10/site-packages (from matplotlib<4,>=3.6.0->copulas<0.9,>=0.8.0->sdv==0.18.0) (4.54.1)\n",
      "Requirement already satisfied: packaging>=20.0 in /Users/vinodkumar/.pyenv/versions/3.10.15/lib/python3.10/site-packages (from matplotlib<4,>=3.6.0->copulas<0.9,>=0.8.0->sdv==0.18.0) (24.1)\n",
      "Requirement already satisfied: cycler>=0.10 in /Users/vinodkumar/.pyenv/versions/3.10.15/lib/python3.10/site-packages (from matplotlib<4,>=3.6.0->copulas<0.9,>=0.8.0->sdv==0.18.0) (0.12.1)\n",
      "Requirement already satisfied: kiwisolver>=1.3.1 in /Users/vinodkumar/.pyenv/versions/3.10.15/lib/python3.10/site-packages (from matplotlib<4,>=3.6.0->copulas<0.9,>=0.8.0->sdv==0.18.0) (1.4.7)\n",
      "Requirement already satisfied: pyparsing>=2.3.1 in /Users/vinodkumar/.pyenv/versions/3.10.15/lib/python3.10/site-packages (from matplotlib<4,>=3.6.0->copulas<0.9,>=0.8.0->sdv==0.18.0) (3.2.0)\n",
      "Requirement already satisfied: contourpy>=1.0.1 in /Users/vinodkumar/.pyenv/versions/3.10.15/lib/python3.10/site-packages (from matplotlib<4,>=3.6.0->copulas<0.9,>=0.8.0->sdv==0.18.0) (1.3.0)\n",
      "Requirement already satisfied: tenacity>=6.2.0 in /Users/vinodkumar/.pyenv/versions/3.10.15/lib/python3.10/site-packages (from plotly<6,>=5.10.0->sdmetrics<0.10,>=0.9.0->sdv==0.18.0) (9.0.0)\n",
      "Requirement already satisfied: six>=1.5 in /Users/vinodkumar/.pyenv/versions/3.10.15/lib/python3.10/site-packages (from python-dateutil>=2.4->Faker<15,>=10->sdv==0.18.0) (1.16.0)\n",
      "Requirement already satisfied: joblib>=1.2.0 in /Users/vinodkumar/.pyenv/versions/3.10.15/lib/python3.10/site-packages (from scikit-learn<2,>=1.1.3->ctgan<0.8,>=0.7.0->sdv==0.18.0) (1.4.2)\n",
      "Requirement already satisfied: threadpoolctl>=3.1.0 in /Users/vinodkumar/.pyenv/versions/3.10.15/lib/python3.10/site-packages (from scikit-learn<2,>=1.1.3->ctgan<0.8,>=0.7.0->sdv==0.18.0) (3.5.0)\n",
      "Requirement already satisfied: typing-extensions>=4.8.0 in /Users/vinodkumar/.pyenv/versions/3.10.15/lib/python3.10/site-packages (from torch>=1.11.0->ctgan<0.8,>=0.7.0->sdv==0.18.0) (4.12.2)\n",
      "Requirement already satisfied: sympy==1.13.1 in /Users/vinodkumar/.pyenv/versions/3.10.15/lib/python3.10/site-packages (from torch>=1.11.0->ctgan<0.8,>=0.7.0->sdv==0.18.0) (1.13.1)\n",
      "Requirement already satisfied: filelock in /Users/vinodkumar/.pyenv/versions/3.10.15/lib/python3.10/site-packages (from torch>=1.11.0->ctgan<0.8,>=0.7.0->sdv==0.18.0) (3.16.1)\n",
      "Requirement already satisfied: networkx in /Users/vinodkumar/.pyenv/versions/3.10.15/lib/python3.10/site-packages (from torch>=1.11.0->ctgan<0.8,>=0.7.0->sdv==0.18.0) (3.4.2)\n",
      "Requirement already satisfied: fsspec in /Users/vinodkumar/.pyenv/versions/3.10.15/lib/python3.10/site-packages (from torch>=1.11.0->ctgan<0.8,>=0.7.0->sdv==0.18.0) (2024.10.0)\n",
      "Requirement already satisfied: jinja2 in /Users/vinodkumar/.pyenv/versions/3.10.15/lib/python3.10/site-packages (from torch>=1.11.0->ctgan<0.8,>=0.7.0->sdv==0.18.0) (3.1.4)\n",
      "Requirement already satisfied: mpmath<1.4,>=1.1.0 in /Users/vinodkumar/.pyenv/versions/3.10.15/lib/python3.10/site-packages (from sympy==1.13.1->torch>=1.11.0->ctgan<0.8,>=0.7.0->sdv==0.18.0) (1.3.0)\n",
      "Requirement already satisfied: MarkupSafe>=2.0 in /Users/vinodkumar/.pyenv/versions/3.10.15/lib/python3.10/site-packages (from jinja2->torch>=1.11.0->ctgan<0.8,>=0.7.0->sdv==0.18.0) (3.0.2)\n",
      "\n",
      "\u001b[1m[\u001b[0m\u001b[34;49mnotice\u001b[0m\u001b[1;39;49m]\u001b[0m\u001b[39;49m A new release of pip is available: \u001b[0m\u001b[31;49m23.0.1\u001b[0m\u001b[39;49m -> \u001b[0m\u001b[32;49m24.3.1\u001b[0m\n",
      "\u001b[1m[\u001b[0m\u001b[34;49mnotice\u001b[0m\u001b[1;39;49m]\u001b[0m\u001b[39;49m To update, run: \u001b[0m\u001b[32;49mpip install --upgrade pip\u001b[0m\n"
     ]
    }
   ],
   "source": [
    "!pip install sdv==0.18.0"
   ]
  },
  {
   "cell_type": "code",
   "execution_count": 23,
   "id": "54e8d46d-717e-457a-8dd0-1337bf15d3a6",
   "metadata": {},
   "outputs": [
    {
     "name": "stdout",
     "output_type": "stream",
     "text": [
      "Requirement already satisfied: ctgan in /opt/anaconda3/lib/python3.12/site-packages (0.10.2)\n",
      "Requirement already satisfied: tqdm<5,>=4.29 in /opt/anaconda3/lib/python3.12/site-packages (from ctgan) (4.66.4)\n",
      "Requirement already satisfied: rdt>=1.11.0 in /opt/anaconda3/lib/python3.12/site-packages (from ctgan) (1.13.0)\n",
      "Requirement already satisfied: numpy>=1.26.0 in /opt/anaconda3/lib/python3.12/site-packages (from ctgan) (1.26.4)\n",
      "Requirement already satisfied: pandas>=2.1.1 in /opt/anaconda3/lib/python3.12/site-packages (from ctgan) (2.2.2)\n",
      "Requirement already satisfied: torch>=2.2.0 in /opt/anaconda3/lib/python3.12/site-packages (from ctgan) (2.5.0)\n",
      "Requirement already satisfied: python-dateutil>=2.8.2 in /opt/anaconda3/lib/python3.12/site-packages (from pandas>=2.1.1->ctgan) (2.9.0.post0)\n",
      "Requirement already satisfied: pytz>=2020.1 in /opt/anaconda3/lib/python3.12/site-packages (from pandas>=2.1.1->ctgan) (2024.1)\n",
      "Requirement already satisfied: tzdata>=2022.7 in /opt/anaconda3/lib/python3.12/site-packages (from pandas>=2.1.1->ctgan) (2023.3)\n",
      "Requirement already satisfied: Faker>=17 in /opt/anaconda3/lib/python3.12/site-packages (from rdt>=1.11.0->ctgan) (30.8.0)\n",
      "Requirement already satisfied: scipy>=1.12.0 in /opt/anaconda3/lib/python3.12/site-packages (from rdt>=1.11.0->ctgan) (1.13.1)\n",
      "Requirement already satisfied: scikit-learn>=1.3.1 in /opt/anaconda3/lib/python3.12/site-packages (from rdt>=1.11.0->ctgan) (1.4.2)\n",
      "Requirement already satisfied: filelock in /opt/anaconda3/lib/python3.12/site-packages (from torch>=2.2.0->ctgan) (3.13.1)\n",
      "Requirement already satisfied: typing-extensions>=4.8.0 in /opt/anaconda3/lib/python3.12/site-packages (from torch>=2.2.0->ctgan) (4.11.0)\n",
      "Requirement already satisfied: networkx in /opt/anaconda3/lib/python3.12/site-packages (from torch>=2.2.0->ctgan) (3.2.1)\n",
      "Requirement already satisfied: jinja2 in /opt/anaconda3/lib/python3.12/site-packages (from torch>=2.2.0->ctgan) (3.1.4)\n",
      "Requirement already satisfied: fsspec in /opt/anaconda3/lib/python3.12/site-packages (from torch>=2.2.0->ctgan) (2024.3.1)\n",
      "Requirement already satisfied: setuptools in /opt/anaconda3/lib/python3.12/site-packages (from torch>=2.2.0->ctgan) (69.5.1)\n",
      "Requirement already satisfied: sympy==1.13.1 in /opt/anaconda3/lib/python3.12/site-packages (from torch>=2.2.0->ctgan) (1.13.1)\n",
      "Requirement already satisfied: mpmath<1.4,>=1.1.0 in /opt/anaconda3/lib/python3.12/site-packages (from sympy==1.13.1->torch>=2.2.0->ctgan) (1.3.0)\n",
      "Requirement already satisfied: six>=1.5 in /opt/anaconda3/lib/python3.12/site-packages (from python-dateutil>=2.8.2->pandas>=2.1.1->ctgan) (1.16.0)\n",
      "Requirement already satisfied: joblib>=1.2.0 in /opt/anaconda3/lib/python3.12/site-packages (from scikit-learn>=1.3.1->rdt>=1.11.0->ctgan) (1.4.2)\n",
      "Requirement already satisfied: threadpoolctl>=2.0.0 in /opt/anaconda3/lib/python3.12/site-packages (from scikit-learn>=1.3.1->rdt>=1.11.0->ctgan) (2.2.0)\n",
      "Requirement already satisfied: MarkupSafe>=2.0 in /opt/anaconda3/lib/python3.12/site-packages (from jinja2->torch>=2.2.0->ctgan) (2.1.3)\n",
      "Note: you may need to restart the kernel to use updated packages.\n"
     ]
    }
   ],
   "source": [
    "pip install ctgan"
   ]
  },
  {
   "cell_type": "code",
   "execution_count": 1,
   "id": "d780fcdf-badd-4216-9324-52519f5645ca",
   "metadata": {},
   "outputs": [
    {
     "ename": "KeyboardInterrupt",
     "evalue": "",
     "output_type": "error",
     "traceback": [
      "\u001b[0;31m---------------------------------------------------------------------------\u001b[0m",
      "\u001b[0;31mKeyboardInterrupt\u001b[0m                         Traceback (most recent call last)",
      "Cell \u001b[0;32mIn[1], line 23\u001b[0m\n\u001b[1;32m     21\u001b[0m \u001b[38;5;66;03m# Initialize and train CTGAN\u001b[39;00m\n\u001b[1;32m     22\u001b[0m ctgan \u001b[38;5;241m=\u001b[39m CTGAN()\n\u001b[0;32m---> 23\u001b[0m ctgan\u001b[38;5;241m.\u001b[39mfit(train_data)\n\u001b[1;32m     25\u001b[0m \u001b[38;5;66;03m# Generate synthetic data\u001b[39;00m\n\u001b[1;32m     26\u001b[0m synthetic_data \u001b[38;5;241m=\u001b[39m ctgan\u001b[38;5;241m.\u001b[39msample(num_rows\u001b[38;5;241m=\u001b[39m\u001b[38;5;241m10\u001b[39m)\n",
      "File \u001b[0;32m/opt/anaconda3/lib/python3.12/site-packages/ctgan/synthesizers/base.py:50\u001b[0m, in \u001b[0;36mrandom_state.<locals>.wrapper\u001b[0;34m(self, *args, **kwargs)\u001b[0m\n\u001b[1;32m     48\u001b[0m \u001b[38;5;28;01mdef\u001b[39;00m \u001b[38;5;21mwrapper\u001b[39m(\u001b[38;5;28mself\u001b[39m, \u001b[38;5;241m*\u001b[39margs, \u001b[38;5;241m*\u001b[39m\u001b[38;5;241m*\u001b[39mkwargs):\n\u001b[1;32m     49\u001b[0m     \u001b[38;5;28;01mif\u001b[39;00m \u001b[38;5;28mself\u001b[39m\u001b[38;5;241m.\u001b[39mrandom_states \u001b[38;5;129;01mis\u001b[39;00m \u001b[38;5;28;01mNone\u001b[39;00m:\n\u001b[0;32m---> 50\u001b[0m         \u001b[38;5;28;01mreturn\u001b[39;00m function(\u001b[38;5;28mself\u001b[39m, \u001b[38;5;241m*\u001b[39margs, \u001b[38;5;241m*\u001b[39m\u001b[38;5;241m*\u001b[39mkwargs)\n\u001b[1;32m     52\u001b[0m     \u001b[38;5;28;01melse\u001b[39;00m:\n\u001b[1;32m     53\u001b[0m         \u001b[38;5;28;01mwith\u001b[39;00m set_random_states(\u001b[38;5;28mself\u001b[39m\u001b[38;5;241m.\u001b[39mrandom_states, \u001b[38;5;28mself\u001b[39m\u001b[38;5;241m.\u001b[39mset_random_state):\n",
      "File \u001b[0;32m/opt/anaconda3/lib/python3.12/site-packages/ctgan/synthesizers/ctgan.py:319\u001b[0m, in \u001b[0;36mCTGAN.fit\u001b[0;34m(self, train_data, discrete_columns, epochs)\u001b[0m\n\u001b[1;32m    310\u001b[0m     warnings\u001b[38;5;241m.\u001b[39mwarn(\n\u001b[1;32m    311\u001b[0m         (\n\u001b[1;32m    312\u001b[0m             \u001b[38;5;124m'\u001b[39m\u001b[38;5;124m`epochs` argument in `fit` method has been deprecated and will be removed \u001b[39m\u001b[38;5;124m'\u001b[39m\n\u001b[0;32m   (...)\u001b[0m\n\u001b[1;32m    315\u001b[0m         \u001b[38;5;167;01mDeprecationWarning\u001b[39;00m,\n\u001b[1;32m    316\u001b[0m     )\n\u001b[1;32m    318\u001b[0m \u001b[38;5;28mself\u001b[39m\u001b[38;5;241m.\u001b[39m_transformer \u001b[38;5;241m=\u001b[39m DataTransformer()\n\u001b[0;32m--> 319\u001b[0m \u001b[38;5;28mself\u001b[39m\u001b[38;5;241m.\u001b[39m_transformer\u001b[38;5;241m.\u001b[39mfit(train_data, discrete_columns)\n\u001b[1;32m    321\u001b[0m train_data \u001b[38;5;241m=\u001b[39m \u001b[38;5;28mself\u001b[39m\u001b[38;5;241m.\u001b[39m_transformer\u001b[38;5;241m.\u001b[39mtransform(train_data)\n\u001b[1;32m    323\u001b[0m \u001b[38;5;28mself\u001b[39m\u001b[38;5;241m.\u001b[39m_data_sampler \u001b[38;5;241m=\u001b[39m DataSampler(\n\u001b[1;32m    324\u001b[0m     train_data, \u001b[38;5;28mself\u001b[39m\u001b[38;5;241m.\u001b[39m_transformer\u001b[38;5;241m.\u001b[39moutput_info_list, \u001b[38;5;28mself\u001b[39m\u001b[38;5;241m.\u001b[39m_log_frequency\n\u001b[1;32m    325\u001b[0m )\n",
      "File \u001b[0;32m/opt/anaconda3/lib/python3.12/site-packages/ctgan/data_transformer.py:113\u001b[0m, in \u001b[0;36mDataTransformer.fit\u001b[0;34m(self, raw_data, discrete_columns)\u001b[0m\n\u001b[1;32m    111\u001b[0m     column_transform_info \u001b[38;5;241m=\u001b[39m \u001b[38;5;28mself\u001b[39m\u001b[38;5;241m.\u001b[39m_fit_discrete(raw_data[[column_name]])\n\u001b[1;32m    112\u001b[0m \u001b[38;5;28;01melse\u001b[39;00m:\n\u001b[0;32m--> 113\u001b[0m     column_transform_info \u001b[38;5;241m=\u001b[39m \u001b[38;5;28mself\u001b[39m\u001b[38;5;241m.\u001b[39m_fit_continuous(raw_data[[column_name]])\n\u001b[1;32m    115\u001b[0m \u001b[38;5;28mself\u001b[39m\u001b[38;5;241m.\u001b[39moutput_info_list\u001b[38;5;241m.\u001b[39mappend(column_transform_info\u001b[38;5;241m.\u001b[39moutput_info)\n\u001b[1;32m    116\u001b[0m \u001b[38;5;28mself\u001b[39m\u001b[38;5;241m.\u001b[39moutput_dimensions \u001b[38;5;241m+\u001b[39m\u001b[38;5;241m=\u001b[39m column_transform_info\u001b[38;5;241m.\u001b[39moutput_dimensions\n",
      "File \u001b[0;32m/opt/anaconda3/lib/python3.12/site-packages/ctgan/data_transformer.py:53\u001b[0m, in \u001b[0;36mDataTransformer._fit_continuous\u001b[0;34m(self, data)\u001b[0m\n\u001b[1;32m     47\u001b[0m column_name \u001b[38;5;241m=\u001b[39m data\u001b[38;5;241m.\u001b[39mcolumns[\u001b[38;5;241m0\u001b[39m]\n\u001b[1;32m     48\u001b[0m gm \u001b[38;5;241m=\u001b[39m ClusterBasedNormalizer(\n\u001b[1;32m     49\u001b[0m     missing_value_generation\u001b[38;5;241m=\u001b[39m\u001b[38;5;124m'\u001b[39m\u001b[38;5;124mfrom_column\u001b[39m\u001b[38;5;124m'\u001b[39m,\n\u001b[1;32m     50\u001b[0m     max_clusters\u001b[38;5;241m=\u001b[39m\u001b[38;5;28mmin\u001b[39m(\u001b[38;5;28mlen\u001b[39m(data), \u001b[38;5;28mself\u001b[39m\u001b[38;5;241m.\u001b[39m_max_clusters),\n\u001b[1;32m     51\u001b[0m     weight_threshold\u001b[38;5;241m=\u001b[39m\u001b[38;5;28mself\u001b[39m\u001b[38;5;241m.\u001b[39m_weight_threshold,\n\u001b[1;32m     52\u001b[0m )\n\u001b[0;32m---> 53\u001b[0m gm\u001b[38;5;241m.\u001b[39mfit(data, column_name)\n\u001b[1;32m     54\u001b[0m num_components \u001b[38;5;241m=\u001b[39m \u001b[38;5;28msum\u001b[39m(gm\u001b[38;5;241m.\u001b[39mvalid_component_indicator)\n\u001b[1;32m     56\u001b[0m \u001b[38;5;28;01mreturn\u001b[39;00m ColumnTransformInfo(\n\u001b[1;32m     57\u001b[0m     column_name\u001b[38;5;241m=\u001b[39mcolumn_name,\n\u001b[1;32m     58\u001b[0m     column_type\u001b[38;5;241m=\u001b[39m\u001b[38;5;124m'\u001b[39m\u001b[38;5;124mcontinuous\u001b[39m\u001b[38;5;124m'\u001b[39m,\n\u001b[0;32m   (...)\u001b[0m\n\u001b[1;32m     61\u001b[0m     output_dimensions\u001b[38;5;241m=\u001b[39m\u001b[38;5;241m1\u001b[39m \u001b[38;5;241m+\u001b[39m num_components,\n\u001b[1;32m     62\u001b[0m )\n",
      "File \u001b[0;32m/opt/anaconda3/lib/python3.12/site-packages/rdt/transformers/base.py:57\u001b[0m, in \u001b[0;36mrandom_state.<locals>.wrapper\u001b[0;34m(self, *args, **kwargs)\u001b[0m\n\u001b[1;32m     55\u001b[0m method_name \u001b[38;5;241m=\u001b[39m function\u001b[38;5;241m.\u001b[39m\u001b[38;5;18m__name__\u001b[39m\n\u001b[1;32m     56\u001b[0m \u001b[38;5;28;01mwith\u001b[39;00m set_random_states(\u001b[38;5;28mself\u001b[39m\u001b[38;5;241m.\u001b[39mrandom_states, method_name, \u001b[38;5;28mself\u001b[39m\u001b[38;5;241m.\u001b[39mset_random_state):\n\u001b[0;32m---> 57\u001b[0m     \u001b[38;5;28;01mreturn\u001b[39;00m function(\u001b[38;5;28mself\u001b[39m, \u001b[38;5;241m*\u001b[39margs, \u001b[38;5;241m*\u001b[39m\u001b[38;5;241m*\u001b[39mkwargs)\n",
      "File \u001b[0;32m/opt/anaconda3/lib/python3.12/site-packages/rdt/transformers/base.py:394\u001b[0m, in \u001b[0;36mBaseTransformer.fit\u001b[0;34m(self, data, column)\u001b[0m\n\u001b[1;32m    392\u001b[0m \u001b[38;5;28mself\u001b[39m\u001b[38;5;241m.\u001b[39m_set_seed(data)\n\u001b[1;32m    393\u001b[0m columns_data \u001b[38;5;241m=\u001b[39m \u001b[38;5;28mself\u001b[39m\u001b[38;5;241m.\u001b[39m_get_columns_data(data, \u001b[38;5;28mself\u001b[39m\u001b[38;5;241m.\u001b[39mcolumns)\n\u001b[0;32m--> 394\u001b[0m \u001b[38;5;28mself\u001b[39m\u001b[38;5;241m.\u001b[39m_fit(columns_data)\n\u001b[1;32m    395\u001b[0m \u001b[38;5;28mself\u001b[39m\u001b[38;5;241m.\u001b[39m_build_output_columns(data)\n",
      "File \u001b[0;32m/opt/anaconda3/lib/python3.12/site-packages/rdt/transformers/numerical.py:545\u001b[0m, in \u001b[0;36mClusterBasedNormalizer._fit\u001b[0;34m(self, data)\u001b[0m\n\u001b[1;32m    543\u001b[0m \u001b[38;5;28;01mwith\u001b[39;00m warnings\u001b[38;5;241m.\u001b[39mcatch_warnings():\n\u001b[1;32m    544\u001b[0m     warnings\u001b[38;5;241m.\u001b[39msimplefilter(\u001b[38;5;124m'\u001b[39m\u001b[38;5;124mignore\u001b[39m\u001b[38;5;124m'\u001b[39m)\n\u001b[0;32m--> 545\u001b[0m     \u001b[38;5;28mself\u001b[39m\u001b[38;5;241m.\u001b[39m_bgm_transformer\u001b[38;5;241m.\u001b[39mfit(data\u001b[38;5;241m.\u001b[39mreshape(\u001b[38;5;241m-\u001b[39m\u001b[38;5;241m1\u001b[39m, \u001b[38;5;241m1\u001b[39m))\n\u001b[1;32m    547\u001b[0m \u001b[38;5;28mself\u001b[39m\u001b[38;5;241m.\u001b[39mvalid_component_indicator \u001b[38;5;241m=\u001b[39m \u001b[38;5;28mself\u001b[39m\u001b[38;5;241m.\u001b[39m_bgm_transformer\u001b[38;5;241m.\u001b[39mweights_ \u001b[38;5;241m>\u001b[39m \u001b[38;5;28mself\u001b[39m\u001b[38;5;241m.\u001b[39mweight_threshold\n",
      "File \u001b[0;32m/opt/anaconda3/lib/python3.12/site-packages/sklearn/mixture/_base.py:181\u001b[0m, in \u001b[0;36mBaseMixture.fit\u001b[0;34m(self, X, y)\u001b[0m\n\u001b[1;32m    155\u001b[0m \u001b[38;5;250m\u001b[39m\u001b[38;5;124;03m\"\"\"Estimate model parameters with the EM algorithm.\u001b[39;00m\n\u001b[1;32m    156\u001b[0m \n\u001b[1;32m    157\u001b[0m \u001b[38;5;124;03mThe method fits the model ``n_init`` times and sets the parameters with\u001b[39;00m\n\u001b[0;32m   (...)\u001b[0m\n\u001b[1;32m    178\u001b[0m \u001b[38;5;124;03m    The fitted mixture.\u001b[39;00m\n\u001b[1;32m    179\u001b[0m \u001b[38;5;124;03m\"\"\"\u001b[39;00m\n\u001b[1;32m    180\u001b[0m \u001b[38;5;66;03m# parameters are validated in fit_predict\u001b[39;00m\n\u001b[0;32m--> 181\u001b[0m \u001b[38;5;28mself\u001b[39m\u001b[38;5;241m.\u001b[39mfit_predict(X, y)\n\u001b[1;32m    182\u001b[0m \u001b[38;5;28;01mreturn\u001b[39;00m \u001b[38;5;28mself\u001b[39m\n",
      "File \u001b[0;32m/opt/anaconda3/lib/python3.12/site-packages/sklearn/base.py:1474\u001b[0m, in \u001b[0;36m_fit_context.<locals>.decorator.<locals>.wrapper\u001b[0;34m(estimator, *args, **kwargs)\u001b[0m\n\u001b[1;32m   1467\u001b[0m     estimator\u001b[38;5;241m.\u001b[39m_validate_params()\n\u001b[1;32m   1469\u001b[0m \u001b[38;5;28;01mwith\u001b[39;00m config_context(\n\u001b[1;32m   1470\u001b[0m     skip_parameter_validation\u001b[38;5;241m=\u001b[39m(\n\u001b[1;32m   1471\u001b[0m         prefer_skip_nested_validation \u001b[38;5;129;01mor\u001b[39;00m global_skip_validation\n\u001b[1;32m   1472\u001b[0m     )\n\u001b[1;32m   1473\u001b[0m ):\n\u001b[0;32m-> 1474\u001b[0m     \u001b[38;5;28;01mreturn\u001b[39;00m fit_method(estimator, \u001b[38;5;241m*\u001b[39margs, \u001b[38;5;241m*\u001b[39m\u001b[38;5;241m*\u001b[39mkwargs)\n",
      "File \u001b[0;32m/opt/anaconda3/lib/python3.12/site-packages/sklearn/mixture/_base.py:246\u001b[0m, in \u001b[0;36mBaseMixture.fit_predict\u001b[0;34m(self, X, y)\u001b[0m\n\u001b[1;32m    243\u001b[0m \u001b[38;5;28;01mfor\u001b[39;00m n_iter \u001b[38;5;129;01min\u001b[39;00m \u001b[38;5;28mrange\u001b[39m(\u001b[38;5;241m1\u001b[39m, \u001b[38;5;28mself\u001b[39m\u001b[38;5;241m.\u001b[39mmax_iter \u001b[38;5;241m+\u001b[39m \u001b[38;5;241m1\u001b[39m):\n\u001b[1;32m    244\u001b[0m     prev_lower_bound \u001b[38;5;241m=\u001b[39m lower_bound\n\u001b[0;32m--> 246\u001b[0m     log_prob_norm, log_resp \u001b[38;5;241m=\u001b[39m \u001b[38;5;28mself\u001b[39m\u001b[38;5;241m.\u001b[39m_e_step(X)\n\u001b[1;32m    247\u001b[0m     \u001b[38;5;28mself\u001b[39m\u001b[38;5;241m.\u001b[39m_m_step(X, log_resp)\n\u001b[1;32m    248\u001b[0m     lower_bound \u001b[38;5;241m=\u001b[39m \u001b[38;5;28mself\u001b[39m\u001b[38;5;241m.\u001b[39m_compute_lower_bound(log_resp, log_prob_norm)\n",
      "File \u001b[0;32m/opt/anaconda3/lib/python3.12/site-packages/sklearn/mixture/_base.py:303\u001b[0m, in \u001b[0;36mBaseMixture._e_step\u001b[0;34m(self, X)\u001b[0m\n\u001b[1;32m    287\u001b[0m \u001b[38;5;28;01mdef\u001b[39;00m \u001b[38;5;21m_e_step\u001b[39m(\u001b[38;5;28mself\u001b[39m, X):\n\u001b[1;32m    288\u001b[0m \u001b[38;5;250m    \u001b[39m\u001b[38;5;124;03m\"\"\"E step.\u001b[39;00m\n\u001b[1;32m    289\u001b[0m \n\u001b[1;32m    290\u001b[0m \u001b[38;5;124;03m    Parameters\u001b[39;00m\n\u001b[0;32m   (...)\u001b[0m\n\u001b[1;32m    301\u001b[0m \u001b[38;5;124;03m        the point of each sample in X.\u001b[39;00m\n\u001b[1;32m    302\u001b[0m \u001b[38;5;124;03m    \"\"\"\u001b[39;00m\n\u001b[0;32m--> 303\u001b[0m     log_prob_norm, log_resp \u001b[38;5;241m=\u001b[39m \u001b[38;5;28mself\u001b[39m\u001b[38;5;241m.\u001b[39m_estimate_log_prob_resp(X)\n\u001b[1;32m    304\u001b[0m     \u001b[38;5;28;01mreturn\u001b[39;00m np\u001b[38;5;241m.\u001b[39mmean(log_prob_norm), log_resp\n",
      "File \u001b[0;32m/opt/anaconda3/lib/python3.12/site-packages/sklearn/mixture/_base.py:523\u001b[0m, in \u001b[0;36mBaseMixture._estimate_log_prob_resp\u001b[0;34m(self, X)\u001b[0m\n\u001b[1;32m    504\u001b[0m \u001b[38;5;28;01mdef\u001b[39;00m \u001b[38;5;21m_estimate_log_prob_resp\u001b[39m(\u001b[38;5;28mself\u001b[39m, X):\n\u001b[1;32m    505\u001b[0m \u001b[38;5;250m    \u001b[39m\u001b[38;5;124;03m\"\"\"Estimate log probabilities and responsibilities for each sample.\u001b[39;00m\n\u001b[1;32m    506\u001b[0m \n\u001b[1;32m    507\u001b[0m \u001b[38;5;124;03m    Compute the log probabilities, weighted log probabilities per\u001b[39;00m\n\u001b[0;32m   (...)\u001b[0m\n\u001b[1;32m    521\u001b[0m \u001b[38;5;124;03m        logarithm of the responsibilities\u001b[39;00m\n\u001b[1;32m    522\u001b[0m \u001b[38;5;124;03m    \"\"\"\u001b[39;00m\n\u001b[0;32m--> 523\u001b[0m     weighted_log_prob \u001b[38;5;241m=\u001b[39m \u001b[38;5;28mself\u001b[39m\u001b[38;5;241m.\u001b[39m_estimate_weighted_log_prob(X)\n\u001b[1;32m    524\u001b[0m     log_prob_norm \u001b[38;5;241m=\u001b[39m logsumexp(weighted_log_prob, axis\u001b[38;5;241m=\u001b[39m\u001b[38;5;241m1\u001b[39m)\n\u001b[1;32m    525\u001b[0m     \u001b[38;5;28;01mwith\u001b[39;00m np\u001b[38;5;241m.\u001b[39merrstate(under\u001b[38;5;241m=\u001b[39m\u001b[38;5;124m\"\u001b[39m\u001b[38;5;124mignore\u001b[39m\u001b[38;5;124m\"\u001b[39m):\n\u001b[1;32m    526\u001b[0m         \u001b[38;5;66;03m# ignore underflow\u001b[39;00m\n",
      "File \u001b[0;32m/opt/anaconda3/lib/python3.12/site-packages/sklearn/mixture/_base.py:476\u001b[0m, in \u001b[0;36mBaseMixture._estimate_weighted_log_prob\u001b[0;34m(self, X)\u001b[0m\n\u001b[1;32m    465\u001b[0m \u001b[38;5;28;01mdef\u001b[39;00m \u001b[38;5;21m_estimate_weighted_log_prob\u001b[39m(\u001b[38;5;28mself\u001b[39m, X):\n\u001b[1;32m    466\u001b[0m \u001b[38;5;250m    \u001b[39m\u001b[38;5;124;03m\"\"\"Estimate the weighted log-probabilities, log P(X | Z) + log weights.\u001b[39;00m\n\u001b[1;32m    467\u001b[0m \n\u001b[1;32m    468\u001b[0m \u001b[38;5;124;03m    Parameters\u001b[39;00m\n\u001b[0;32m   (...)\u001b[0m\n\u001b[1;32m    474\u001b[0m \u001b[38;5;124;03m    weighted_log_prob : array, shape (n_samples, n_component)\u001b[39;00m\n\u001b[1;32m    475\u001b[0m \u001b[38;5;124;03m    \"\"\"\u001b[39;00m\n\u001b[0;32m--> 476\u001b[0m     \u001b[38;5;28;01mreturn\u001b[39;00m \u001b[38;5;28mself\u001b[39m\u001b[38;5;241m.\u001b[39m_estimate_log_prob(X) \u001b[38;5;241m+\u001b[39m \u001b[38;5;28mself\u001b[39m\u001b[38;5;241m.\u001b[39m_estimate_log_weights()\n",
      "File \u001b[0;32m/opt/anaconda3/lib/python3.12/site-packages/sklearn/mixture/_bayesian_mixture.py:764\u001b[0m, in \u001b[0;36mBayesianGaussianMixture._estimate_log_prob\u001b[0;34m(self, X)\u001b[0m\n\u001b[1;32m    761\u001b[0m _, n_features \u001b[38;5;241m=\u001b[39m X\u001b[38;5;241m.\u001b[39mshape\n\u001b[1;32m    762\u001b[0m \u001b[38;5;66;03m# We remove `n_features * np.log(self.degrees_of_freedom_)` because\u001b[39;00m\n\u001b[1;32m    763\u001b[0m \u001b[38;5;66;03m# the precision matrix is normalized\u001b[39;00m\n\u001b[0;32m--> 764\u001b[0m log_gauss \u001b[38;5;241m=\u001b[39m _estimate_log_gaussian_prob(\n\u001b[1;32m    765\u001b[0m     X, \u001b[38;5;28mself\u001b[39m\u001b[38;5;241m.\u001b[39mmeans_, \u001b[38;5;28mself\u001b[39m\u001b[38;5;241m.\u001b[39mprecisions_cholesky_, \u001b[38;5;28mself\u001b[39m\u001b[38;5;241m.\u001b[39mcovariance_type\n\u001b[1;32m    766\u001b[0m ) \u001b[38;5;241m-\u001b[39m \u001b[38;5;241m0.5\u001b[39m \u001b[38;5;241m*\u001b[39m n_features \u001b[38;5;241m*\u001b[39m np\u001b[38;5;241m.\u001b[39mlog(\u001b[38;5;28mself\u001b[39m\u001b[38;5;241m.\u001b[39mdegrees_of_freedom_)\n\u001b[1;32m    768\u001b[0m log_lambda \u001b[38;5;241m=\u001b[39m n_features \u001b[38;5;241m*\u001b[39m np\u001b[38;5;241m.\u001b[39mlog(\u001b[38;5;241m2.0\u001b[39m) \u001b[38;5;241m+\u001b[39m np\u001b[38;5;241m.\u001b[39msum(\n\u001b[1;32m    769\u001b[0m     digamma(\n\u001b[1;32m    770\u001b[0m         \u001b[38;5;241m0.5\u001b[39m\n\u001b[0;32m   (...)\u001b[0m\n\u001b[1;32m    773\u001b[0m     \u001b[38;5;241m0\u001b[39m,\n\u001b[1;32m    774\u001b[0m )\n\u001b[1;32m    776\u001b[0m \u001b[38;5;28;01mreturn\u001b[39;00m log_gauss \u001b[38;5;241m+\u001b[39m \u001b[38;5;241m0.5\u001b[39m \u001b[38;5;241m*\u001b[39m (log_lambda \u001b[38;5;241m-\u001b[39m n_features \u001b[38;5;241m/\u001b[39m \u001b[38;5;28mself\u001b[39m\u001b[38;5;241m.\u001b[39mmean_precision_)\n",
      "File \u001b[0;32m/opt/anaconda3/lib/python3.12/site-packages/sklearn/mixture/_gaussian_mixture.py:481\u001b[0m, in \u001b[0;36m_estimate_log_gaussian_prob\u001b[0;34m(X, means, precisions_chol, covariance_type)\u001b[0m\n\u001b[1;32m    479\u001b[0m     log_prob \u001b[38;5;241m=\u001b[39m np\u001b[38;5;241m.\u001b[39mempty((n_samples, n_components))\n\u001b[1;32m    480\u001b[0m     \u001b[38;5;28;01mfor\u001b[39;00m k, (mu, prec_chol) \u001b[38;5;129;01min\u001b[39;00m \u001b[38;5;28menumerate\u001b[39m(\u001b[38;5;28mzip\u001b[39m(means, precisions_chol)):\n\u001b[0;32m--> 481\u001b[0m         y \u001b[38;5;241m=\u001b[39m np\u001b[38;5;241m.\u001b[39mdot(X, prec_chol) \u001b[38;5;241m-\u001b[39m np\u001b[38;5;241m.\u001b[39mdot(mu, prec_chol)\n\u001b[1;32m    482\u001b[0m         log_prob[:, k] \u001b[38;5;241m=\u001b[39m np\u001b[38;5;241m.\u001b[39msum(np\u001b[38;5;241m.\u001b[39msquare(y), axis\u001b[38;5;241m=\u001b[39m\u001b[38;5;241m1\u001b[39m)\n\u001b[1;32m    484\u001b[0m \u001b[38;5;28;01melif\u001b[39;00m covariance_type \u001b[38;5;241m==\u001b[39m \u001b[38;5;124m\"\u001b[39m\u001b[38;5;124mtied\u001b[39m\u001b[38;5;124m\"\u001b[39m:\n",
      "\u001b[0;31mKeyboardInterrupt\u001b[0m: "
     ]
    }
   ],
   "source": [
    "import pandas as pd\n",
    "from ctgan import CTGAN\n",
    "from sklearn.model_selection import train_test_split\n",
    "\n",
    "# Load the dataset\n",
    "data = pd.read_csv('creditcard.csv')\n",
    "\n",
    "# Separate features and target\n",
    "X = data.drop('Class', axis=1)  \n",
    "y = data['Class']              \n",
    "\n",
    "# Concatenate features and target for CTGAN\n",
    "data_full = pd.concat([X, y], axis=1)\n",
    "\n",
    "# Split data into training and testing sets\n",
    "X_train, X_test, y_train, y_test = train_test_split(X, y, test_size=0.2, random_state=42, stratify=y)\n",
    "\n",
    "# Prepare data for CTGAN\n",
    "train_data = pd.concat([X_train, y_train], axis=1)\n",
    "\n",
    "# Initialize and train CTGAN\n",
    "ctgan = CTGAN()\n",
    "ctgan.fit(train_data)\n",
    "\n",
    "# Generate synthetic data\n",
    "synthetic_data = ctgan.sample(num_rows=10)\n",
    "\n",
    "print(synthetic_data.head())"
   ]
  },
  {
   "cell_type": "code",
   "execution_count": 29,
   "id": "975264d0-7eb2-4129-a4dc-6388eb9c4e75",
   "metadata": {},
   "outputs": [
    {
     "ename": "NameError",
     "evalue": "name 'train_data' is not defined",
     "output_type": "error",
     "traceback": [
      "\u001b[0;31m---------------------------------------------------------------------------\u001b[0m",
      "\u001b[0;31mNameError\u001b[0m                                 Traceback (most recent call last)",
      "Cell \u001b[0;32mIn[29], line 3\u001b[0m\n\u001b[1;32m      1\u001b[0m \u001b[38;5;66;03m# Initialize and train CTGAN model\u001b[39;00m\n\u001b[1;32m      2\u001b[0m ctgan \u001b[38;5;241m=\u001b[39m CTGAN(epochs\u001b[38;5;241m=\u001b[39m\u001b[38;5;241m100\u001b[39m)\n\u001b[0;32m----> 3\u001b[0m ctgan\u001b[38;5;241m.\u001b[39mfit(train_data)\n\u001b[1;32m      5\u001b[0m \u001b[38;5;66;03m# Generate synthetic fraud samples (Class = 1)\u001b[39;00m\n\u001b[1;32m      6\u001b[0m conditions \u001b[38;5;241m=\u001b[39m {\u001b[38;5;124m'\u001b[39m\u001b[38;5;124mClass\u001b[39m\u001b[38;5;124m'\u001b[39m: \u001b[38;5;241m1\u001b[39m}\n",
      "\u001b[0;31mNameError\u001b[0m: name 'train_data' is not defined"
     ]
    }
   ],
   "source": [
    "# Initialize and train CTGAN model\n",
    "ctgan = CTGAN(epochs=100)\n",
    "ctgan.fit(train_data)\n",
    "\n",
    "# Generate synthetic fraud samples (Class = 1)\n",
    "conditions = {'Class': 1}\n",
    "synthetic_data = ctgan.sample(10000, conditions=conditions)\n",
    "\n",
    "# Separate fraud and non-fraud samples in the original training data\n",
    "fraud_samples = X_train[y_train == 1]\n",
    "non_fraud_samples = X_train[y_train == 0]\n",
    "\n",
    "# Combine original non-fraud samples with synthetic fraud samples\n",
    "X_augmented = pd.concat([non_fraud_samples, synthetic_data.drop('Class', axis=1)])  # Drop Class from synthetic data\n",
    "y_augmented = pd.concat([y_train[y_train == 0], pd.Series([1] * len(synthetic_data))])  # Labels: 1 for synthetic data\n",
    "\n",
    "# Train Random Forest model with augmented data\n",
    "model_ctgan = RandomForestClassifier(random_state=42)\n",
    "model_ctgan.fit(X_augmented, y_augmented)\n",
    "\n",
    "# Evaluate the model on the original test set\n",
    "y_pred_ctgan = model_ctgan.predict(X_test)\n",
    "\n",
    "print(\"\\n--- CTGAN Augmented Data ---\")\n",
    "print(\"Confusion Matrix:\")\n",
    "print(confusion_matrix(y_test, y_pred_ctgan))"
   ]
  },
  {
   "cell_type": "code",
   "execution_count": 27,
   "id": "7b45cfe9-0d9e-4d49-81d8-62e3d6778373",
   "metadata": {},
   "outputs": [
    {
     "ename": "ImportError",
     "evalue": "cannot import name 'CTGANSynthesizer' from 'sdv' (/opt/anaconda3/lib/python3.12/site-packages/sdv/__init__.py)",
     "output_type": "error",
     "traceback": [
      "\u001b[0;31m---------------------------------------------------------------------------\u001b[0m",
      "\u001b[0;31mImportError\u001b[0m                               Traceback (most recent call last)",
      "Cell \u001b[0;32mIn[27], line 2\u001b[0m\n\u001b[1;32m      1\u001b[0m \u001b[38;5;28;01mimport\u001b[39;00m \u001b[38;5;21;01mpandas\u001b[39;00m \u001b[38;5;28;01mas\u001b[39;00m \u001b[38;5;21;01mpd\u001b[39;00m\n\u001b[0;32m----> 2\u001b[0m \u001b[38;5;28;01mfrom\u001b[39;00m \u001b[38;5;21;01msdv\u001b[39;00m \u001b[38;5;28;01mimport\u001b[39;00m CTGANSynthesizer\n\u001b[1;32m      3\u001b[0m \u001b[38;5;28;01mfrom\u001b[39;00m \u001b[38;5;21;01msdv\u001b[39;00m\u001b[38;5;21;01m.\u001b[39;00m\u001b[38;5;21;01mmetadata\u001b[39;00m \u001b[38;5;28;01mimport\u001b[39;00m SingleTableMetadata\n\u001b[1;32m      5\u001b[0m \u001b[38;5;66;03m# Assuming you have already loaded the data\u001b[39;00m\n",
      "\u001b[0;31mImportError\u001b[0m: cannot import name 'CTGANSynthesizer' from 'sdv' (/opt/anaconda3/lib/python3.12/site-packages/sdv/__init__.py)"
     ]
    }
   ],
   "source": [
    "import pandas as pd\n",
    "from sdv import CTGANSynthesizer\n",
    "from sdv.metadata import SingleTableMetadata\n",
    "\n",
    "# Assuming you have already loaded the data\n",
    "data = pd.read_csv('your_dataset.csv')\n",
    "\n",
    "# Step 1: Create a unique identifier for each row (if necessary)\n",
    "# If 'Time' is not unique, create a 'unique_id' column to serve as the primary key\n",
    "data['unique_id'] = data.index\n",
    "\n",
    "# Step 2: Initialize the metadata object\n",
    "metadata = SingleTableMetadata()\n",
    "\n",
    "# Step 3: Detect metadata from the dataframe\n",
    "metadata.detect_from_dataframe(data)\n",
    "\n",
    "# Step 4: Set the primary key to the 'unique_id' column\n",
    "metadata.set_primary_key(column_name='unique_id')\n",
    "\n",
    "# Step 5: Initialize and train the CTGAN synthesizer model\n",
    "model = CTGANSynthesizer(metadata)\n",
    "\n",
    "# Train the model\n",
    "model.fit(data)\n",
    "\n",
    "# Step 6: Generate synthetic data\n",
    "synthetic_data = model.sample()\n",
    "\n",
    "# Optional: Check the first few rows of the synthetic data\n",
    "print(synthetic_data.head())\n"
   ]
  },
  {
   "cell_type": "code",
   "execution_count": null,
   "id": "69df5dfa-511c-49ce-a9af-4d1865ad558b",
   "metadata": {},
   "outputs": [],
   "source": []
  }
 ],
 "metadata": {
  "kernelspec": {
   "display_name": "Python 3 (ipykernel)",
   "language": "python",
   "name": "python3"
  },
  "language_info": {
   "codemirror_mode": {
    "name": "ipython",
    "version": 3
   },
   "file_extension": ".py",
   "mimetype": "text/x-python",
   "name": "python",
   "nbconvert_exporter": "python",
   "pygments_lexer": "ipython3",
   "version": "3.12.4"
  }
 },
 "nbformat": 4,
 "nbformat_minor": 5
}
