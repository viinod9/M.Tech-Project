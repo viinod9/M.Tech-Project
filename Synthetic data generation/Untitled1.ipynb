{
 "cells": [
  {
   "cell_type": "code",
   "execution_count": 1,
   "id": "e2e2e341-921f-414e-9f38-1f6df66cf33e",
   "metadata": {},
   "outputs": [
    {
     "name": "stdout",
     "output_type": "stream",
     "text": [
      "Collecting sdv==0.18.0\n",
      "  Downloading sdv-0.18.0-py2.py3-none-any.whl (103 kB)\n",
      "\u001b[2K     \u001b[90m━━━━━━━━━━━━━━━━━━━━━━━━━━━━━━━━━━━━━━━\u001b[0m \u001b[32m103.2/103.2 kB\u001b[0m \u001b[31m2.0 MB/s\u001b[0m eta \u001b[36m0:00:00\u001b[0ma \u001b[36m0:00:01\u001b[0m\n",
      "\u001b[?25hCollecting cloudpickle<3.0,>=2.1.0\n",
      "  Downloading cloudpickle-2.2.1-py3-none-any.whl (25 kB)\n",
      "Collecting Faker<15,>=10\n",
      "  Downloading Faker-14.2.1-py3-none-any.whl (1.6 MB)\n",
      "\u001b[2K     \u001b[90m━━━━━━━━━━━━━━━━━━━━━━━━━━━━━━━━━━━━━━━━\u001b[0m \u001b[32m1.6/1.6 MB\u001b[0m \u001b[31m16.9 MB/s\u001b[0m eta \u001b[36m0:00:00\u001b[0ma \u001b[36m0:00:01\u001b[0m\n",
      "\u001b[?25hCollecting pandas<2,>=1.5.0\n",
      "  Downloading pandas-1.5.3-cp310-cp310-macosx_11_0_arm64.whl (10.9 MB)\n",
      "\u001b[2K     \u001b[90m━━━━━━━━━━━━━━━━━━━━━━━━━━━━━━━━━━━━━━━━\u001b[0m \u001b[32m10.9/10.9 MB\u001b[0m \u001b[31m41.8 MB/s\u001b[0m eta \u001b[36m0:00:00\u001b[0m00:01\u001b[0m00:01\u001b[0m\n",
      "\u001b[?25hCollecting ctgan<0.8,>=0.7.0\n",
      "  Downloading ctgan-0.7.5-py2.py3-none-any.whl (27 kB)\n",
      "Collecting tqdm<5,>=4.15\n",
      "  Downloading tqdm-4.66.6-py3-none-any.whl (78 kB)\n",
      "\u001b[2K     \u001b[90m━━━━━━━━━━━━━━━━━━━━━━━━━━━━━━━━━━━━━━━━\u001b[0m \u001b[32m78.3/78.3 kB\u001b[0m \u001b[31m11.2 MB/s\u001b[0m eta \u001b[36m0:00:00\u001b[0m\n",
      "\u001b[?25hCollecting deepecho<0.5,>=0.4.0\n",
      "  Downloading deepecho-0.4.2-py2.py3-none-any.whl (29 kB)\n",
      "Collecting numpy<2,>=1.23.3\n",
      "  Downloading numpy-1.26.4-cp310-cp310-macosx_11_0_arm64.whl (14.0 MB)\n",
      "\u001b[2K     \u001b[90m━━━━━━━━━━━━━━━━━━━━━━━━━━━━━━━━━━━━━━━━\u001b[0m \u001b[32m14.0/14.0 MB\u001b[0m \u001b[31m26.2 MB/s\u001b[0m eta \u001b[36m0:00:00\u001b[0m00:01\u001b[0m00:01\u001b[0m\n",
      "\u001b[?25hCollecting graphviz<1,>=0.13.2\n",
      "  Downloading graphviz-0.20.3-py3-none-any.whl (47 kB)\n",
      "\u001b[2K     \u001b[90m━━━━━━━━━━━━━━━━━━━━━━━━━━━━━━━━━━━━━━━━\u001b[0m \u001b[32m47.1/47.1 kB\u001b[0m \u001b[31m5.0 MB/s\u001b[0m eta \u001b[36m0:00:00\u001b[0m\n",
      "\u001b[?25hCollecting sdmetrics<0.10,>=0.9.0\n",
      "  Downloading sdmetrics-0.9.3-py2.py3-none-any.whl (142 kB)\n",
      "\u001b[2K     \u001b[90m━━━━━━━━━━━━━━━━━━━━━━━━━━━━━━━━━━━━━━\u001b[0m \u001b[32m142.7/142.7 kB\u001b[0m \u001b[31m13.7 MB/s\u001b[0m eta \u001b[36m0:00:00\u001b[0m\n",
      "\u001b[?25hCollecting rdt<2,>=1.3.0\n",
      "  Downloading rdt-1.13.0-py3-none-any.whl (66 kB)\n",
      "\u001b[2K     \u001b[90m━━━━━━━━━━━━━━━━━━━━━━━━━━━━━━━━━━━━━━━━\u001b[0m \u001b[32m66.7/66.7 kB\u001b[0m \u001b[31m8.8 MB/s\u001b[0m eta \u001b[36m0:00:00\u001b[0m\n",
      "\u001b[?25hCollecting copulas<0.9,>=0.8.0\n",
      "  Downloading copulas-0.8.0-py2.py3-none-any.whl (53 kB)\n",
      "\u001b[2K     \u001b[90m━━━━━━━━━━━━━━━━━━━━━━━━━━━━━━━━━━━━━━━━\u001b[0m \u001b[32m53.6/53.6 kB\u001b[0m \u001b[31m5.3 MB/s\u001b[0m eta \u001b[36m0:00:00\u001b[0m\n",
      "\u001b[?25hRequirement already satisfied: matplotlib<4,>=3.6.0 in /Users/vinodkumar/.pyenv/versions/3.10.15/lib/python3.10/site-packages (from copulas<0.9,>=0.8.0->sdv==0.18.0) (3.9.2)\n",
      "Requirement already satisfied: scipy<2,>=1.9.2 in /Users/vinodkumar/.pyenv/versions/3.10.15/lib/python3.10/site-packages (from copulas<0.9,>=0.8.0->sdv==0.18.0) (1.14.1)\n",
      "Collecting torch>=1.11.0\n",
      "  Downloading torch-2.5.1-cp310-none-macosx_11_0_arm64.whl (63.9 MB)\n",
      "\u001b[2K     \u001b[90m━━━━━━━━━━━━━━━━━━━━━━━━━━━━━━━━━━━━━━━━\u001b[0m \u001b[32m63.9/63.9 MB\u001b[0m \u001b[31m6.6 MB/s\u001b[0m eta \u001b[36m0:00:00\u001b[0m00:01\u001b[0m00:01\u001b[0mm\n",
      "\u001b[?25hRequirement already satisfied: scikit-learn<2,>=1.1.3 in /Users/vinodkumar/.pyenv/versions/3.10.15/lib/python3.10/site-packages (from ctgan<0.8,>=0.7.0->sdv==0.18.0) (1.5.2)\n",
      "Requirement already satisfied: python-dateutil>=2.4 in /Users/vinodkumar/.pyenv/versions/3.10.15/lib/python3.10/site-packages (from Faker<15,>=10->sdv==0.18.0) (2.9.0.post0)\n",
      "Requirement already satisfied: pytz>=2020.1 in /Users/vinodkumar/.pyenv/versions/3.10.15/lib/python3.10/site-packages (from pandas<2,>=1.5.0->sdv==0.18.0) (2024.2)\n",
      "Collecting rdt<2,>=1.3.0\n",
      "  Downloading rdt-1.12.4-py3-none-any.whl (65 kB)\n",
      "\u001b[2K     \u001b[90m━━━━━━━━━━━━━━━━━━━━━━━━━━━━━━━━━━━━━━━━\u001b[0m \u001b[32m65.3/65.3 kB\u001b[0m \u001b[31m5.2 MB/s\u001b[0m eta \u001b[36m0:00:00\u001b[0m\n",
      "\u001b[?25h  Downloading rdt-1.12.3-py3-none-any.whl (65 kB)\n",
      "\u001b[2K     \u001b[90m━━━━━━━━━━━━━━━━━━━━━━━━━━━━━━━━━━━━━━━━\u001b[0m \u001b[32m65.2/65.2 kB\u001b[0m \u001b[31m7.2 MB/s\u001b[0m eta \u001b[36m0:00:00\u001b[0m\n",
      "\u001b[?25h  Downloading rdt-1.12.2-py3-none-any.whl (65 kB)\n",
      "\u001b[2K     \u001b[90m━━━━━━━━━━━━━━━━━━━━━━━━━━━━━━━━━━━━━━━━\u001b[0m \u001b[32m65.2/65.2 kB\u001b[0m \u001b[31m5.4 MB/s\u001b[0m eta \u001b[36m0:00:00\u001b[0m\n",
      "\u001b[?25h  Downloading rdt-1.12.1-py3-none-any.whl (63 kB)\n",
      "\u001b[2K     \u001b[90m━━━━━━━━━━━━━━━━━━━━━━━━━━━━━━━━━━━━━━━━\u001b[0m \u001b[32m63.7/63.7 kB\u001b[0m \u001b[31m7.7 MB/s\u001b[0m eta \u001b[36m0:00:00\u001b[0m\n",
      "\u001b[?25h  Downloading rdt-1.12.0-py3-none-any.whl (63 kB)\n",
      "\u001b[2K     \u001b[90m━━━━━━━━━━━━━━━━━━━━━━━━━━━━━━━━━━━━━━━━\u001b[0m \u001b[32m63.8/63.8 kB\u001b[0m \u001b[31m6.0 MB/s\u001b[0m eta \u001b[36m0:00:00\u001b[0m\n",
      "\u001b[?25h  Downloading rdt-1.11.1-py3-none-any.whl (63 kB)\n",
      "\u001b[2K     \u001b[90m━━━━━━━━━━━━━━━━━━━━━━━━━━━━━━━━━━━━━━━━\u001b[0m \u001b[32m63.6/63.6 kB\u001b[0m \u001b[31m5.6 MB/s\u001b[0m eta \u001b[36m0:00:00\u001b[0m\n",
      "\u001b[?25h  Downloading rdt-1.11.0-py3-none-any.whl (63 kB)\n",
      "\u001b[2K     \u001b[90m━━━━━━━━━━━━━━━━━━━━━━━━━━━━━━━━━━━━━━━━\u001b[0m \u001b[32m63.6/63.6 kB\u001b[0m \u001b[31m5.9 MB/s\u001b[0m eta \u001b[36m0:00:00\u001b[0m\n",
      "\u001b[?25h  Downloading rdt-1.10.1-py3-none-any.whl (61 kB)\n",
      "\u001b[2K     \u001b[90m━━━━━━━━━━━━━━━━━━━━━━━━━━━━━━━━━━━━━━━━\u001b[0m \u001b[32m61.9/61.9 kB\u001b[0m \u001b[31m6.4 MB/s\u001b[0m eta \u001b[36m0:00:00\u001b[0m\n",
      "\u001b[?25h  Downloading rdt-1.10.0-py3-none-any.whl (61 kB)\n",
      "\u001b[2K     \u001b[90m━━━━━━━━━━━━━━━━━━━━━━━━━━━━━━━━━━━━━━━━\u001b[0m \u001b[32m61.8/61.8 kB\u001b[0m \u001b[31m6.6 MB/s\u001b[0m eta \u001b[36m0:00:00\u001b[0m\n",
      "\u001b[?25h  Downloading rdt-1.9.2-py2.py3-none-any.whl (76 kB)\n",
      "\u001b[2K     \u001b[90m━━━━━━━━━━━━━━━━━━━━━━━━━━━━━━━━━━━━━━━━\u001b[0m \u001b[32m76.2/76.2 kB\u001b[0m \u001b[31m7.1 MB/s\u001b[0m eta \u001b[36m0:00:00\u001b[0m\n",
      "\u001b[?25h  Downloading rdt-1.9.1-py2.py3-none-any.whl (74 kB)\n",
      "\u001b[2K     \u001b[90m━━━━━━━━━━━━━━━━━━━━━━━━━━━━━━━━━━━━━━━━\u001b[0m \u001b[32m74.9/74.9 kB\u001b[0m \u001b[31m5.5 MB/s\u001b[0m eta \u001b[36m0:00:00\u001b[0m\n",
      "\u001b[?25h  Downloading rdt-1.9.0-py2.py3-none-any.whl (74 kB)\n",
      "\u001b[2K     \u001b[90m━━━━━━━━━━━━━━━━━━━━━━━━━━━━━━━━━━━━━━━━\u001b[0m \u001b[32m74.8/74.8 kB\u001b[0m \u001b[31m5.6 MB/s\u001b[0m eta \u001b[36m0:00:00\u001b[0m\n",
      "\u001b[?25h  Downloading rdt-1.8.0-py2.py3-none-any.whl (73 kB)\n",
      "\u001b[2K     \u001b[90m━━━━━━━━━━━━━━━━━━━━━━━━━━━━━━━━━━━━━━━━\u001b[0m \u001b[32m73.1/73.1 kB\u001b[0m \u001b[31m6.6 MB/s\u001b[0m eta \u001b[36m0:00:00\u001b[0m\n",
      "\u001b[?25h  Downloading rdt-1.7.0-py2.py3-none-any.whl (70 kB)\n",
      "\u001b[2K     \u001b[90m━━━━━━━━━━━━━━━━━━━━━━━━━━━━━━━━━━━━━━━━\u001b[0m \u001b[32m70.5/70.5 kB\u001b[0m \u001b[31m6.8 MB/s\u001b[0m eta \u001b[36m0:00:00\u001b[0m\n",
      "\u001b[?25hCollecting psutil<6,>=5.7\n",
      "  Downloading psutil-5.9.8-cp38-abi3-macosx_11_0_arm64.whl (249 kB)\n",
      "\u001b[2K     \u001b[90m━━━━━━━━━━━━━━━━━━━━━━━━━━━━━━━━━━━━━━━\u001b[0m \u001b[32m249.9/249.9 kB\u001b[0m \u001b[31m5.5 MB/s\u001b[0m eta \u001b[36m0:00:00\u001b[0m00:01\u001b[0m\n",
      "\u001b[?25hCollecting plotly<6,>=5.10.0\n",
      "  Downloading plotly-5.24.1-py3-none-any.whl (19.1 MB)\n",
      "\u001b[2K     \u001b[90m━━━━━━━━━━━━━━━━━━━━━━━━━━━━━━━━━━━━━━━━\u001b[0m \u001b[32m19.1/19.1 MB\u001b[0m \u001b[31m4.4 MB/s\u001b[0m eta \u001b[36m0:00:00\u001b[0m00:01\u001b[0m00:01\u001b[0m\n",
      "\u001b[?25hRequirement already satisfied: packaging>=20.0 in /Users/vinodkumar/.pyenv/versions/3.10.15/lib/python3.10/site-packages (from matplotlib<4,>=3.6.0->copulas<0.9,>=0.8.0->sdv==0.18.0) (24.1)\n",
      "Requirement already satisfied: kiwisolver>=1.3.1 in /Users/vinodkumar/.pyenv/versions/3.10.15/lib/python3.10/site-packages (from matplotlib<4,>=3.6.0->copulas<0.9,>=0.8.0->sdv==0.18.0) (1.4.7)\n",
      "Requirement already satisfied: pyparsing>=2.3.1 in /Users/vinodkumar/.pyenv/versions/3.10.15/lib/python3.10/site-packages (from matplotlib<4,>=3.6.0->copulas<0.9,>=0.8.0->sdv==0.18.0) (3.2.0)\n",
      "Requirement already satisfied: cycler>=0.10 in /Users/vinodkumar/.pyenv/versions/3.10.15/lib/python3.10/site-packages (from matplotlib<4,>=3.6.0->copulas<0.9,>=0.8.0->sdv==0.18.0) (0.12.1)\n",
      "Requirement already satisfied: fonttools>=4.22.0 in /Users/vinodkumar/.pyenv/versions/3.10.15/lib/python3.10/site-packages (from matplotlib<4,>=3.6.0->copulas<0.9,>=0.8.0->sdv==0.18.0) (4.54.1)\n",
      "Requirement already satisfied: pillow>=8 in /Users/vinodkumar/.pyenv/versions/3.10.15/lib/python3.10/site-packages (from matplotlib<4,>=3.6.0->copulas<0.9,>=0.8.0->sdv==0.18.0) (11.0.0)\n",
      "Requirement already satisfied: contourpy>=1.0.1 in /Users/vinodkumar/.pyenv/versions/3.10.15/lib/python3.10/site-packages (from matplotlib<4,>=3.6.0->copulas<0.9,>=0.8.0->sdv==0.18.0) (1.3.0)\n",
      "Collecting tenacity>=6.2.0\n",
      "  Downloading tenacity-9.0.0-py3-none-any.whl (28 kB)\n",
      "Requirement already satisfied: six>=1.5 in /Users/vinodkumar/.pyenv/versions/3.10.15/lib/python3.10/site-packages (from python-dateutil>=2.4->Faker<15,>=10->sdv==0.18.0) (1.16.0)\n",
      "Requirement already satisfied: joblib>=1.2.0 in /Users/vinodkumar/.pyenv/versions/3.10.15/lib/python3.10/site-packages (from scikit-learn<2,>=1.1.3->ctgan<0.8,>=0.7.0->sdv==0.18.0) (1.4.2)\n",
      "Requirement already satisfied: threadpoolctl>=3.1.0 in /Users/vinodkumar/.pyenv/versions/3.10.15/lib/python3.10/site-packages (from scikit-learn<2,>=1.1.3->ctgan<0.8,>=0.7.0->sdv==0.18.0) (3.5.0)\n",
      "Requirement already satisfied: typing-extensions>=4.8.0 in /Users/vinodkumar/.pyenv/versions/3.10.15/lib/python3.10/site-packages (from torch>=1.11.0->ctgan<0.8,>=0.7.0->sdv==0.18.0) (4.12.2)\n",
      "Collecting fsspec\n",
      "  Downloading fsspec-2024.10.0-py3-none-any.whl (179 kB)\n",
      "\u001b[2K     \u001b[90m━━━━━━━━━━━━━━━━━━━━━━━━━━━━━━━━━━━━━━━\u001b[0m \u001b[32m179.6/179.6 kB\u001b[0m \u001b[31m5.0 MB/s\u001b[0m eta \u001b[36m0:00:00\u001b[0m\n",
      "\u001b[?25hCollecting networkx\n",
      "  Downloading networkx-3.4.2-py3-none-any.whl (1.7 MB)\n",
      "\u001b[2K     \u001b[90m━━━━━━━━━━━━━━━━━━━━━━━━━━━━━━━━━━━━━━━━\u001b[0m \u001b[32m1.7/1.7 MB\u001b[0m \u001b[31m5.8 MB/s\u001b[0m eta \u001b[36m0:00:00\u001b[0ma \u001b[36m0:00:01\u001b[0m\n",
      "\u001b[?25hCollecting sympy==1.13.1\n",
      "  Downloading sympy-1.13.1-py3-none-any.whl (6.2 MB)\n",
      "\u001b[2K     \u001b[90m━━━━━━━━━━━━━━━━━━━━━━━━━━━━━━━━━━━━━━━━\u001b[0m \u001b[32m6.2/6.2 MB\u001b[0m \u001b[31m6.1 MB/s\u001b[0m eta \u001b[36m0:00:00\u001b[0ma \u001b[36m0:00:01\u001b[0m\n",
      "\u001b[?25hCollecting jinja2\n",
      "  Downloading jinja2-3.1.4-py3-none-any.whl (133 kB)\n",
      "\u001b[2K     \u001b[90m━━━━━━━━━━━━━━━━━━━━━━━━━━━━━━━━━━━━━━━\u001b[0m \u001b[32m133.3/133.3 kB\u001b[0m \u001b[31m6.2 MB/s\u001b[0m eta \u001b[36m0:00:00\u001b[0m\n",
      "\u001b[?25hCollecting filelock\n",
      "  Downloading filelock-3.16.1-py3-none-any.whl (16 kB)\n",
      "Collecting mpmath<1.4,>=1.1.0\n",
      "  Downloading mpmath-1.3.0-py3-none-any.whl (536 kB)\n",
      "\u001b[2K     \u001b[90m━━━━━━━━━━━━━━━━━━━━━━━━━━━━━━━━━━━━━━━\u001b[0m \u001b[32m536.2/536.2 kB\u001b[0m \u001b[31m6.9 MB/s\u001b[0m eta \u001b[36m0:00:00\u001b[0ma \u001b[36m0:00:01\u001b[0m\n",
      "\u001b[?25hCollecting MarkupSafe>=2.0\n",
      "  Downloading MarkupSafe-3.0.2-cp310-cp310-macosx_11_0_arm64.whl (12 kB)\n",
      "Installing collected packages: mpmath, tqdm, tenacity, sympy, psutil, numpy, networkx, MarkupSafe, graphviz, fsspec, filelock, cloudpickle, plotly, pandas, jinja2, Faker, torch, rdt, deepecho, copulas, sdmetrics, ctgan, sdv\n",
      "  Attempting uninstall: psutil\n",
      "    Found existing installation: psutil 6.1.0\n",
      "    Uninstalling psutil-6.1.0:\n",
      "      Successfully uninstalled psutil-6.1.0\n",
      "  Attempting uninstall: numpy\n",
      "    Found existing installation: numpy 2.1.2\n",
      "    Uninstalling numpy-2.1.2:\n",
      "      Successfully uninstalled numpy-2.1.2\n",
      "  Attempting uninstall: pandas\n",
      "    Found existing installation: pandas 2.2.3\n",
      "    Uninstalling pandas-2.2.3:\n",
      "      Successfully uninstalled pandas-2.2.3\n",
      "Successfully installed Faker-14.2.1 MarkupSafe-3.0.2 cloudpickle-2.2.1 copulas-0.8.0 ctgan-0.7.5 deepecho-0.4.2 filelock-3.16.1 fsspec-2024.10.0 graphviz-0.20.3 jinja2-3.1.4 mpmath-1.3.0 networkx-3.4.2 numpy-1.26.4 pandas-1.5.3 plotly-5.24.1 psutil-5.9.8 rdt-1.7.0 sdmetrics-0.9.3 sdv-0.18.0 sympy-1.13.1 tenacity-9.0.0 torch-2.5.1 tqdm-4.66.6\n",
      "\n",
      "\u001b[1m[\u001b[0m\u001b[34;49mnotice\u001b[0m\u001b[1;39;49m]\u001b[0m\u001b[39;49m A new release of pip is available: \u001b[0m\u001b[31;49m23.0.1\u001b[0m\u001b[39;49m -> \u001b[0m\u001b[32;49m24.3.1\u001b[0m\n",
      "\u001b[1m[\u001b[0m\u001b[34;49mnotice\u001b[0m\u001b[1;39;49m]\u001b[0m\u001b[39;49m To update, run: \u001b[0m\u001b[32;49mpip install --upgrade pip\u001b[0m\n"
     ]
    }
   ],
   "source": [
    "!pip install sdv==0.18.0"
   ]
  },
  {
   "cell_type": "code",
   "execution_count": 2,
   "id": "e260b534-f8e1-4fab-aba2-d0812693dcd8",
   "metadata": {},
   "outputs": [
    {
     "name": "stdout",
     "output_type": "stream",
     "text": [
      "Requirement already satisfied: sdv==0.18.0 in /Users/vinodkumar/.pyenv/versions/3.10.15/lib/python3.10/site-packages (0.18.0)\n",
      "Requirement already satisfied: numpy<2,>=1.23.3 in /Users/vinodkumar/.pyenv/versions/3.10.15/lib/python3.10/site-packages (from sdv==0.18.0) (1.26.4)\n",
      "Requirement already satisfied: deepecho<0.5,>=0.4.0 in /Users/vinodkumar/.pyenv/versions/3.10.15/lib/python3.10/site-packages (from sdv==0.18.0) (0.4.2)\n",
      "Requirement already satisfied: copulas<0.9,>=0.8.0 in /Users/vinodkumar/.pyenv/versions/3.10.15/lib/python3.10/site-packages (from sdv==0.18.0) (0.8.0)\n",
      "Requirement already satisfied: rdt<2,>=1.3.0 in /Users/vinodkumar/.pyenv/versions/3.10.15/lib/python3.10/site-packages (from sdv==0.18.0) (1.7.0)\n",
      "Requirement already satisfied: pandas<2,>=1.5.0 in /Users/vinodkumar/.pyenv/versions/3.10.15/lib/python3.10/site-packages (from sdv==0.18.0) (1.5.3)\n",
      "Requirement already satisfied: Faker<15,>=10 in /Users/vinodkumar/.pyenv/versions/3.10.15/lib/python3.10/site-packages (from sdv==0.18.0) (14.2.1)\n",
      "Requirement already satisfied: tqdm<5,>=4.15 in /Users/vinodkumar/.pyenv/versions/3.10.15/lib/python3.10/site-packages (from sdv==0.18.0) (4.66.6)\n",
      "Requirement already satisfied: graphviz<1,>=0.13.2 in /Users/vinodkumar/.pyenv/versions/3.10.15/lib/python3.10/site-packages (from sdv==0.18.0) (0.20.3)\n",
      "Requirement already satisfied: cloudpickle<3.0,>=2.1.0 in /Users/vinodkumar/.pyenv/versions/3.10.15/lib/python3.10/site-packages (from sdv==0.18.0) (2.2.1)\n",
      "Requirement already satisfied: sdmetrics<0.10,>=0.9.0 in /Users/vinodkumar/.pyenv/versions/3.10.15/lib/python3.10/site-packages (from sdv==0.18.0) (0.9.3)\n",
      "Requirement already satisfied: ctgan<0.8,>=0.7.0 in /Users/vinodkumar/.pyenv/versions/3.10.15/lib/python3.10/site-packages (from sdv==0.18.0) (0.7.5)\n",
      "Requirement already satisfied: matplotlib<4,>=3.6.0 in /Users/vinodkumar/.pyenv/versions/3.10.15/lib/python3.10/site-packages (from copulas<0.9,>=0.8.0->sdv==0.18.0) (3.9.2)\n",
      "Requirement already satisfied: scipy<2,>=1.9.2 in /Users/vinodkumar/.pyenv/versions/3.10.15/lib/python3.10/site-packages (from copulas<0.9,>=0.8.0->sdv==0.18.0) (1.14.1)\n",
      "Requirement already satisfied: torch>=1.11.0 in /Users/vinodkumar/.pyenv/versions/3.10.15/lib/python3.10/site-packages (from ctgan<0.8,>=0.7.0->sdv==0.18.0) (2.5.1)\n",
      "Requirement already satisfied: scikit-learn<2,>=1.1.3 in /Users/vinodkumar/.pyenv/versions/3.10.15/lib/python3.10/site-packages (from ctgan<0.8,>=0.7.0->sdv==0.18.0) (1.5.2)\n",
      "Requirement already satisfied: python-dateutil>=2.4 in /Users/vinodkumar/.pyenv/versions/3.10.15/lib/python3.10/site-packages (from Faker<15,>=10->sdv==0.18.0) (2.9.0.post0)\n",
      "Requirement already satisfied: pytz>=2020.1 in /Users/vinodkumar/.pyenv/versions/3.10.15/lib/python3.10/site-packages (from pandas<2,>=1.5.0->sdv==0.18.0) (2024.2)\n",
      "Requirement already satisfied: psutil<6,>=5.7 in /Users/vinodkumar/.pyenv/versions/3.10.15/lib/python3.10/site-packages (from rdt<2,>=1.3.0->sdv==0.18.0) (5.9.8)\n",
      "Requirement already satisfied: plotly<6,>=5.10.0 in /Users/vinodkumar/.pyenv/versions/3.10.15/lib/python3.10/site-packages (from sdmetrics<0.10,>=0.9.0->sdv==0.18.0) (5.24.1)\n",
      "Requirement already satisfied: pillow>=8 in /Users/vinodkumar/.pyenv/versions/3.10.15/lib/python3.10/site-packages (from matplotlib<4,>=3.6.0->copulas<0.9,>=0.8.0->sdv==0.18.0) (11.0.0)\n",
      "Requirement already satisfied: pyparsing>=2.3.1 in /Users/vinodkumar/.pyenv/versions/3.10.15/lib/python3.10/site-packages (from matplotlib<4,>=3.6.0->copulas<0.9,>=0.8.0->sdv==0.18.0) (3.2.0)\n",
      "Requirement already satisfied: packaging>=20.0 in /Users/vinodkumar/.pyenv/versions/3.10.15/lib/python3.10/site-packages (from matplotlib<4,>=3.6.0->copulas<0.9,>=0.8.0->sdv==0.18.0) (24.1)\n",
      "Requirement already satisfied: fonttools>=4.22.0 in /Users/vinodkumar/.pyenv/versions/3.10.15/lib/python3.10/site-packages (from matplotlib<4,>=3.6.0->copulas<0.9,>=0.8.0->sdv==0.18.0) (4.54.1)\n",
      "Requirement already satisfied: contourpy>=1.0.1 in /Users/vinodkumar/.pyenv/versions/3.10.15/lib/python3.10/site-packages (from matplotlib<4,>=3.6.0->copulas<0.9,>=0.8.0->sdv==0.18.0) (1.3.0)\n",
      "Requirement already satisfied: kiwisolver>=1.3.1 in /Users/vinodkumar/.pyenv/versions/3.10.15/lib/python3.10/site-packages (from matplotlib<4,>=3.6.0->copulas<0.9,>=0.8.0->sdv==0.18.0) (1.4.7)\n",
      "Requirement already satisfied: cycler>=0.10 in /Users/vinodkumar/.pyenv/versions/3.10.15/lib/python3.10/site-packages (from matplotlib<4,>=3.6.0->copulas<0.9,>=0.8.0->sdv==0.18.0) (0.12.1)\n",
      "Requirement already satisfied: tenacity>=6.2.0 in /Users/vinodkumar/.pyenv/versions/3.10.15/lib/python3.10/site-packages (from plotly<6,>=5.10.0->sdmetrics<0.10,>=0.9.0->sdv==0.18.0) (9.0.0)\n",
      "Requirement already satisfied: six>=1.5 in /Users/vinodkumar/.pyenv/versions/3.10.15/lib/python3.10/site-packages (from python-dateutil>=2.4->Faker<15,>=10->sdv==0.18.0) (1.16.0)\n",
      "Requirement already satisfied: joblib>=1.2.0 in /Users/vinodkumar/.pyenv/versions/3.10.15/lib/python3.10/site-packages (from scikit-learn<2,>=1.1.3->ctgan<0.8,>=0.7.0->sdv==0.18.0) (1.4.2)\n",
      "Requirement already satisfied: threadpoolctl>=3.1.0 in /Users/vinodkumar/.pyenv/versions/3.10.15/lib/python3.10/site-packages (from scikit-learn<2,>=1.1.3->ctgan<0.8,>=0.7.0->sdv==0.18.0) (3.5.0)\n",
      "Requirement already satisfied: typing-extensions>=4.8.0 in /Users/vinodkumar/.pyenv/versions/3.10.15/lib/python3.10/site-packages (from torch>=1.11.0->ctgan<0.8,>=0.7.0->sdv==0.18.0) (4.12.2)\n",
      "Requirement already satisfied: sympy==1.13.1 in /Users/vinodkumar/.pyenv/versions/3.10.15/lib/python3.10/site-packages (from torch>=1.11.0->ctgan<0.8,>=0.7.0->sdv==0.18.0) (1.13.1)\n",
      "Requirement already satisfied: jinja2 in /Users/vinodkumar/.pyenv/versions/3.10.15/lib/python3.10/site-packages (from torch>=1.11.0->ctgan<0.8,>=0.7.0->sdv==0.18.0) (3.1.4)\n",
      "Requirement already satisfied: fsspec in /Users/vinodkumar/.pyenv/versions/3.10.15/lib/python3.10/site-packages (from torch>=1.11.0->ctgan<0.8,>=0.7.0->sdv==0.18.0) (2024.10.0)\n",
      "Requirement already satisfied: networkx in /Users/vinodkumar/.pyenv/versions/3.10.15/lib/python3.10/site-packages (from torch>=1.11.0->ctgan<0.8,>=0.7.0->sdv==0.18.0) (3.4.2)\n",
      "Requirement already satisfied: filelock in /Users/vinodkumar/.pyenv/versions/3.10.15/lib/python3.10/site-packages (from torch>=1.11.0->ctgan<0.8,>=0.7.0->sdv==0.18.0) (3.16.1)\n",
      "Requirement already satisfied: mpmath<1.4,>=1.1.0 in /Users/vinodkumar/.pyenv/versions/3.10.15/lib/python3.10/site-packages (from sympy==1.13.1->torch>=1.11.0->ctgan<0.8,>=0.7.0->sdv==0.18.0) (1.3.0)\n",
      "Requirement already satisfied: MarkupSafe>=2.0 in /Users/vinodkumar/.pyenv/versions/3.10.15/lib/python3.10/site-packages (from jinja2->torch>=1.11.0->ctgan<0.8,>=0.7.0->sdv==0.18.0) (3.0.2)\n",
      "\n",
      "\u001b[1m[\u001b[0m\u001b[34;49mnotice\u001b[0m\u001b[1;39;49m]\u001b[0m\u001b[39;49m A new release of pip is available: \u001b[0m\u001b[31;49m23.0.1\u001b[0m\u001b[39;49m -> \u001b[0m\u001b[32;49m24.3.1\u001b[0m\n",
      "\u001b[1m[\u001b[0m\u001b[34;49mnotice\u001b[0m\u001b[1;39;49m]\u001b[0m\u001b[39;49m To update, run: \u001b[0m\u001b[32;49mpip install --upgrade pip\u001b[0m\n"
     ]
    }
   ],
   "source": [
    "! pip install sdv==0.18.0"
   ]
  },
  {
   "cell_type": "code",
   "execution_count": 3,
   "id": "312d1de1-562d-40bd-b735-b6e4cd574755",
   "metadata": {},
   "outputs": [
    {
     "name": "stdout",
     "output_type": "stream",
     "text": [
      "Requirement already satisfied: DataSynthesizer in /Users/vinodkumar/.pyenv/versions/3.10.15/lib/python3.10/site-packages (0.1.13)\n",
      "Requirement already satisfied: matplotlib>=3.2.2 in /Users/vinodkumar/.pyenv/versions/3.10.15/lib/python3.10/site-packages (from DataSynthesizer) (3.9.2)\n",
      "Requirement already satisfied: pandas>=1.0.5 in /Users/vinodkumar/.pyenv/versions/3.10.15/lib/python3.10/site-packages (from DataSynthesizer) (1.5.3)\n",
      "Requirement already satisfied: python-dateutil>=2.8.1 in /Users/vinodkumar/.pyenv/versions/3.10.15/lib/python3.10/site-packages (from DataSynthesizer) (2.9.0.post0)\n",
      "Requirement already satisfied: scikit-learn>=0.23.1 in /Users/vinodkumar/.pyenv/versions/3.10.15/lib/python3.10/site-packages (from DataSynthesizer) (1.5.2)\n",
      "Requirement already satisfied: numpy>=1.18.5 in /Users/vinodkumar/.pyenv/versions/3.10.15/lib/python3.10/site-packages (from DataSynthesizer) (1.26.4)\n",
      "Requirement already satisfied: seaborn>=0.10.1 in /Users/vinodkumar/.pyenv/versions/3.10.15/lib/python3.10/site-packages (from DataSynthesizer) (0.13.2)\n",
      "Requirement already satisfied: pillow>=8 in /Users/vinodkumar/.pyenv/versions/3.10.15/lib/python3.10/site-packages (from matplotlib>=3.2.2->DataSynthesizer) (11.0.0)\n",
      "Requirement already satisfied: pyparsing>=2.3.1 in /Users/vinodkumar/.pyenv/versions/3.10.15/lib/python3.10/site-packages (from matplotlib>=3.2.2->DataSynthesizer) (3.2.0)\n",
      "Requirement already satisfied: fonttools>=4.22.0 in /Users/vinodkumar/.pyenv/versions/3.10.15/lib/python3.10/site-packages (from matplotlib>=3.2.2->DataSynthesizer) (4.54.1)\n",
      "Requirement already satisfied: contourpy>=1.0.1 in /Users/vinodkumar/.pyenv/versions/3.10.15/lib/python3.10/site-packages (from matplotlib>=3.2.2->DataSynthesizer) (1.3.0)\n",
      "Requirement already satisfied: kiwisolver>=1.3.1 in /Users/vinodkumar/.pyenv/versions/3.10.15/lib/python3.10/site-packages (from matplotlib>=3.2.2->DataSynthesizer) (1.4.7)\n",
      "Requirement already satisfied: packaging>=20.0 in /Users/vinodkumar/.pyenv/versions/3.10.15/lib/python3.10/site-packages (from matplotlib>=3.2.2->DataSynthesizer) (24.1)\n",
      "Requirement already satisfied: cycler>=0.10 in /Users/vinodkumar/.pyenv/versions/3.10.15/lib/python3.10/site-packages (from matplotlib>=3.2.2->DataSynthesizer) (0.12.1)\n",
      "Requirement already satisfied: pytz>=2020.1 in /Users/vinodkumar/.pyenv/versions/3.10.15/lib/python3.10/site-packages (from pandas>=1.0.5->DataSynthesizer) (2024.2)\n",
      "Requirement already satisfied: six>=1.5 in /Users/vinodkumar/.pyenv/versions/3.10.15/lib/python3.10/site-packages (from python-dateutil>=2.8.1->DataSynthesizer) (1.16.0)\n",
      "Requirement already satisfied: threadpoolctl>=3.1.0 in /Users/vinodkumar/.pyenv/versions/3.10.15/lib/python3.10/site-packages (from scikit-learn>=0.23.1->DataSynthesizer) (3.5.0)\n",
      "Requirement already satisfied: joblib>=1.2.0 in /Users/vinodkumar/.pyenv/versions/3.10.15/lib/python3.10/site-packages (from scikit-learn>=0.23.1->DataSynthesizer) (1.4.2)\n",
      "Requirement already satisfied: scipy>=1.6.0 in /Users/vinodkumar/.pyenv/versions/3.10.15/lib/python3.10/site-packages (from scikit-learn>=0.23.1->DataSynthesizer) (1.14.1)\n",
      "\n",
      "\u001b[1m[\u001b[0m\u001b[34;49mnotice\u001b[0m\u001b[1;39;49m]\u001b[0m\u001b[39;49m A new release of pip is available: \u001b[0m\u001b[31;49m23.0.1\u001b[0m\u001b[39;49m -> \u001b[0m\u001b[32;49m24.3.1\u001b[0m\n",
      "\u001b[1m[\u001b[0m\u001b[34;49mnotice\u001b[0m\u001b[1;39;49m]\u001b[0m\u001b[39;49m To update, run: \u001b[0m\u001b[32;49mpip install --upgrade pip\u001b[0m\n"
     ]
    }
   ],
   "source": [
    "!pip install DataSynthesizer"
   ]
  },
  {
   "cell_type": "code",
   "execution_count": 15,
   "id": "5f3490b2-af50-4505-8540-38cd33589963",
   "metadata": {},
   "outputs": [],
   "source": [
    "from DataSynthesizer.DataDescriber import DataDescriber\n",
    "from DataSynthesizer.DataGenerator import DataGenerator\n",
    "from DataSynthesizer.ModelInspector import ModelInspector\n",
    "from DataSynthesizer.lib.utils import read_json_file, display_bayesian_network\n",
    "import pandas as pd"
   ]
  },
  {
   "cell_type": "code",
   "execution_count": 5,
   "id": "cc9fc131-c7dd-4503-8288-5e78f49afbc1",
   "metadata": {},
   "outputs": [
    {
     "name": "stdout",
     "output_type": "stream",
     "text": [
      "/Users/vinodkumar/Desktop/TCS Tasks/tcsenv/bin/python\n"
     ]
    }
   ],
   "source": [
    "import sys\n",
    "print(sys.executable)\n"
   ]
  },
  {
   "cell_type": "code",
   "execution_count": 6,
   "id": "d8bb2e16-ae92-4a11-8dae-1e571f842ec7",
   "metadata": {},
   "outputs": [
    {
     "name": "stdout",
     "output_type": "stream",
     "text": [
      "Python 3.10.15\n"
     ]
    }
   ],
   "source": [
    "!python --version"
   ]
  },
  {
   "cell_type": "code",
   "execution_count": 17,
   "id": "b202ee5e-98d8-4f25-ae38-fdb174433f19",
   "metadata": {},
   "outputs": [],
   "source": [
    "# Create a sample dataset\n",
    "data = {\n",
    "    'age': [25, 32, 47, 51, 23, 34, 45, 52, 33, 46],\n",
    "    'income': [50000, 54000, 61000, 72000, 58000, 59000, 55000, 65000, 70000, 68000],\n",
    "    'gender': ['M', 'F', 'F', 'M', 'F', 'M', 'M', 'F', 'F', 'M']\n",
    "}\n",
    "df = pd.DataFrame(data)\n",
    "\n",
    "# Save the data to a CSV file (DataSynthesizer requires a file input)\n",
    "df.to_csv(\"sample_data.csv\", index=False)"
   ]
  },
  {
   "cell_type": "code",
   "execution_count": 19,
   "id": "9768b59d-4ad6-4fce-9632-dbc7ab3c1309",
   "metadata": {},
   "outputs": [],
   "source": [
    "# Parameters\n",
    "epsilon = 1.0  # Privacy budget, smaller means more privacy\n",
    "degree_of_bayesian_network = 2  # Set the degree of Bayesian Network\n",
    "num_tuples_to_generate = 1000  # Number of synthetic rows to generate"
   ]
  },
  {
   "cell_type": "code",
   "execution_count": 21,
   "id": "d894df60-fbd5-4126-ab06-393fa18c27df",
   "metadata": {},
   "outputs": [
    {
     "ename": "Exception",
     "evalue": "Correlated Attribute Mode requires at least 2 attributes(i.e., columns) in dataset.",
     "output_type": "error",
     "traceback": [
      "\u001b[0;31m---------------------------------------------------------------------------\u001b[0m",
      "\u001b[0;31mException\u001b[0m                                 Traceback (most recent call last)",
      "Cell \u001b[0;32mIn[21], line 3\u001b[0m\n\u001b[1;32m      1\u001b[0m \u001b[38;5;66;03m# Initialize the DataDescriber\u001b[39;00m\n\u001b[1;32m      2\u001b[0m describer \u001b[38;5;241m=\u001b[39m DataDescriber(category_threshold\u001b[38;5;241m=\u001b[39m\u001b[38;5;241m10\u001b[39m)\n\u001b[0;32m----> 3\u001b[0m \u001b[43mdescriber\u001b[49m\u001b[38;5;241;43m.\u001b[39;49m\u001b[43mdescribe_dataset_in_correlated_attribute_mode\u001b[49m\u001b[43m(\u001b[49m\n\u001b[1;32m      4\u001b[0m \u001b[43m    \u001b[49m\u001b[43mdataset_file\u001b[49m\u001b[38;5;241;43m=\u001b[39;49m\u001b[38;5;124;43m\"\u001b[39;49m\u001b[38;5;124;43msample_data.csv\u001b[39;49m\u001b[38;5;124;43m\"\u001b[39;49m\u001b[43m,\u001b[49m\n\u001b[1;32m      5\u001b[0m \u001b[43m    \u001b[49m\u001b[43mepsilon\u001b[49m\u001b[38;5;241;43m=\u001b[39;49m\u001b[43mepsilon\u001b[49m\u001b[43m,\u001b[49m\n\u001b[1;32m      6\u001b[0m \u001b[43m    \u001b[49m\u001b[43mk\u001b[49m\u001b[38;5;241;43m=\u001b[39;49m\u001b[43mdegree_of_bayesian_network\u001b[49m\n\u001b[1;32m      7\u001b[0m \u001b[43m)\u001b[49m\n\u001b[1;32m      9\u001b[0m \u001b[38;5;66;03m# Save the data description to a JSON file\u001b[39;00m\n\u001b[1;32m     10\u001b[0m describer\u001b[38;5;241m.\u001b[39msave_dataset_description_to_file(\u001b[38;5;124m\"\u001b[39m\u001b[38;5;124mdata_description.json\u001b[39m\u001b[38;5;124m\"\u001b[39m)\n",
      "File \u001b[0;32m~/Desktop/TCS Tasks/tcsenv/lib/python3.10/site-packages/DataSynthesizer/DataDescriber.py:177\u001b[0m, in \u001b[0;36mDataDescriber.describe_dataset_in_correlated_attribute_mode\u001b[0;34m(self, dataset_file, k, epsilon, attribute_to_datatype, attribute_to_is_categorical, attribute_to_is_candidate_key, categorical_attribute_domain_file, numerical_attribute_ranges, seed)\u001b[0m\n\u001b[1;32m    175\u001b[0m \u001b[38;5;28mself\u001b[39m\u001b[38;5;241m.\u001b[39mdf_encoded \u001b[38;5;241m=\u001b[39m \u001b[38;5;28mself\u001b[39m\u001b[38;5;241m.\u001b[39mencode_dataset_into_binning_indices()\n\u001b[1;32m    176\u001b[0m \u001b[38;5;28;01mif\u001b[39;00m \u001b[38;5;28mself\u001b[39m\u001b[38;5;241m.\u001b[39mdf_encoded\u001b[38;5;241m.\u001b[39mshape[\u001b[38;5;241m1\u001b[39m] \u001b[38;5;241m<\u001b[39m \u001b[38;5;241m2\u001b[39m:\n\u001b[0;32m--> 177\u001b[0m     \u001b[38;5;28;01mraise\u001b[39;00m \u001b[38;5;167;01mException\u001b[39;00m(\u001b[38;5;124m\"\u001b[39m\u001b[38;5;124mCorrelated Attribute Mode requires at least 2 attributes(i.e., columns) in dataset.\u001b[39m\u001b[38;5;124m\"\u001b[39m)\n\u001b[1;32m    179\u001b[0m \u001b[38;5;28mself\u001b[39m\u001b[38;5;241m.\u001b[39mbayesian_network \u001b[38;5;241m=\u001b[39m greedy_bayes(\u001b[38;5;28mself\u001b[39m\u001b[38;5;241m.\u001b[39mdf_encoded, k, epsilon \u001b[38;5;241m/\u001b[39m \u001b[38;5;241m2\u001b[39m, seed\u001b[38;5;241m=\u001b[39mseed)\n\u001b[1;32m    180\u001b[0m \u001b[38;5;28mself\u001b[39m\u001b[38;5;241m.\u001b[39mdata_description[\u001b[38;5;124m'\u001b[39m\u001b[38;5;124mbayesian_network\u001b[39m\u001b[38;5;124m'\u001b[39m] \u001b[38;5;241m=\u001b[39m \u001b[38;5;28mself\u001b[39m\u001b[38;5;241m.\u001b[39mbayesian_network\n",
      "\u001b[0;31mException\u001b[0m: Correlated Attribute Mode requires at least 2 attributes(i.e., columns) in dataset."
     ]
    }
   ],
   "source": [
    "# Initialize the DataDescriber\n",
    "describer = DataDescriber(category_threshold=10)\n",
    "describer.describe_dataset_in_correlated_attribute_mode(\n",
    "    dataset_file=\"sample_data.csv\",\n",
    "    epsilon=epsilon,\n",
    "    k=degree_of_bayesian_network\n",
    ")\n",
    "\n",
    "# Save the data description to a JSON file\n",
    "describer.save_dataset_description_to_file(\"data_description.json\")"
   ]
  },
  {
   "cell_type": "code",
   "execution_count": 23,
   "id": "47305e50-eca7-4be1-84f3-26d2ad209100",
   "metadata": {},
   "outputs": [
    {
     "ename": "Exception",
     "evalue": "Correlated Attribute Mode requires at least 2 attributes(i.e., columns) in dataset.",
     "output_type": "error",
     "traceback": [
      "\u001b[0;31m---------------------------------------------------------------------------\u001b[0m",
      "\u001b[0;31mException\u001b[0m                                 Traceback (most recent call last)",
      "Cell \u001b[0;32mIn[23], line 28\u001b[0m\n\u001b[1;32m     26\u001b[0m \u001b[38;5;66;03m# Step 5: Describe the Data Using DataSynthesizer\u001b[39;00m\n\u001b[1;32m     27\u001b[0m describer \u001b[38;5;241m=\u001b[39m DataDescriber(category_threshold\u001b[38;5;241m=\u001b[39m\u001b[38;5;241m10\u001b[39m)\n\u001b[0;32m---> 28\u001b[0m \u001b[43mdescriber\u001b[49m\u001b[38;5;241;43m.\u001b[39;49m\u001b[43mdescribe_dataset_in_correlated_attribute_mode\u001b[49m\u001b[43m(\u001b[49m\n\u001b[1;32m     29\u001b[0m \u001b[43m    \u001b[49m\u001b[43mdataset_file\u001b[49m\u001b[38;5;241;43m=\u001b[39;49m\u001b[38;5;124;43m\"\u001b[39;49m\u001b[38;5;124;43msample_data.csv\u001b[39;49m\u001b[38;5;124;43m\"\u001b[39;49m\u001b[43m,\u001b[49m\n\u001b[1;32m     30\u001b[0m \u001b[43m    \u001b[49m\u001b[43mepsilon\u001b[49m\u001b[38;5;241;43m=\u001b[39;49m\u001b[43mepsilon\u001b[49m\u001b[43m,\u001b[49m\n\u001b[1;32m     31\u001b[0m \u001b[43m    \u001b[49m\u001b[43mk\u001b[49m\u001b[38;5;241;43m=\u001b[39;49m\u001b[43mdegree_of_bayesian_network\u001b[49m\n\u001b[1;32m     32\u001b[0m \u001b[43m)\u001b[49m\n\u001b[1;32m     34\u001b[0m \u001b[38;5;66;03m# Save the data description to a JSON file\u001b[39;00m\n\u001b[1;32m     35\u001b[0m describer\u001b[38;5;241m.\u001b[39msave_dataset_description_to_file(\u001b[38;5;124m\"\u001b[39m\u001b[38;5;124mdata_description.json\u001b[39m\u001b[38;5;124m\"\u001b[39m)\n",
      "File \u001b[0;32m~/Desktop/TCS Tasks/tcsenv/lib/python3.10/site-packages/DataSynthesizer/DataDescriber.py:177\u001b[0m, in \u001b[0;36mDataDescriber.describe_dataset_in_correlated_attribute_mode\u001b[0;34m(self, dataset_file, k, epsilon, attribute_to_datatype, attribute_to_is_categorical, attribute_to_is_candidate_key, categorical_attribute_domain_file, numerical_attribute_ranges, seed)\u001b[0m\n\u001b[1;32m    175\u001b[0m \u001b[38;5;28mself\u001b[39m\u001b[38;5;241m.\u001b[39mdf_encoded \u001b[38;5;241m=\u001b[39m \u001b[38;5;28mself\u001b[39m\u001b[38;5;241m.\u001b[39mencode_dataset_into_binning_indices()\n\u001b[1;32m    176\u001b[0m \u001b[38;5;28;01mif\u001b[39;00m \u001b[38;5;28mself\u001b[39m\u001b[38;5;241m.\u001b[39mdf_encoded\u001b[38;5;241m.\u001b[39mshape[\u001b[38;5;241m1\u001b[39m] \u001b[38;5;241m<\u001b[39m \u001b[38;5;241m2\u001b[39m:\n\u001b[0;32m--> 177\u001b[0m     \u001b[38;5;28;01mraise\u001b[39;00m \u001b[38;5;167;01mException\u001b[39;00m(\u001b[38;5;124m\"\u001b[39m\u001b[38;5;124mCorrelated Attribute Mode requires at least 2 attributes(i.e., columns) in dataset.\u001b[39m\u001b[38;5;124m\"\u001b[39m)\n\u001b[1;32m    179\u001b[0m \u001b[38;5;28mself\u001b[39m\u001b[38;5;241m.\u001b[39mbayesian_network \u001b[38;5;241m=\u001b[39m greedy_bayes(\u001b[38;5;28mself\u001b[39m\u001b[38;5;241m.\u001b[39mdf_encoded, k, epsilon \u001b[38;5;241m/\u001b[39m \u001b[38;5;241m2\u001b[39m, seed\u001b[38;5;241m=\u001b[39mseed)\n\u001b[1;32m    180\u001b[0m \u001b[38;5;28mself\u001b[39m\u001b[38;5;241m.\u001b[39mdata_description[\u001b[38;5;124m'\u001b[39m\u001b[38;5;124mbayesian_network\u001b[39m\u001b[38;5;124m'\u001b[39m] \u001b[38;5;241m=\u001b[39m \u001b[38;5;28mself\u001b[39m\u001b[38;5;241m.\u001b[39mbayesian_network\n",
      "\u001b[0;31mException\u001b[0m: Correlated Attribute Mode requires at least 2 attributes(i.e., columns) in dataset."
     ]
    }
   ],
   "source": [
    "# Step 1: Install the DataSynthesizer library\n",
    "# If you haven't installed it yet, uncomment the line below and run it in your environment:\n",
    "# !pip install DataSynthesizer\n",
    "\n",
    "# Step 2: Import Necessary Libraries\n",
    "import pandas as pd\n",
    "from DataSynthesizer.DataDescriber import DataDescriber\n",
    "from DataSynthesizer.DataGenerator import DataGenerator\n",
    "\n",
    "# Step 3: Create a Sample Dataset\n",
    "data = {\n",
    "    'age': [25, 32, 47, 51, 23, 34, 45, 52, 33, 46],\n",
    "    'income': [50000, 54000, 61000, 72000, 58000, 59000, 55000, 65000, 70000, 68000],\n",
    "    'gender': ['M', 'F', 'F', 'M', 'F', 'M', 'M', 'F', 'F', 'M']\n",
    "}\n",
    "df = pd.DataFrame(data)\n",
    "\n",
    "# Save the data to a CSV file (DataSynthesizer requires a file input)\n",
    "df.to_csv(\"sample_data.csv\", index=False)\n",
    "\n",
    "# Step 4: Configure Privacy Parameters\n",
    "epsilon = 1.0  # Privacy budget\n",
    "degree_of_bayesian_network = 2  # Degree of Bayesian Network\n",
    "num_tuples_to_generate = 1000  # Number of synthetic rows to generate\n",
    "\n",
    "# Step 5: Describe the Data Using DataSynthesizer\n",
    "describer = DataDescriber(category_threshold=10)\n",
    "describer.describe_dataset_in_correlated_attribute_mode(\n",
    "    dataset_file=\"sample_data.csv\",\n",
    "    epsilon=epsilon,\n",
    "    k=degree_of_bayesian_network\n",
    ")\n",
    "\n",
    "# Save the data description to a JSON file\n",
    "describer.save_dataset_description_to_file(\"data_description.json\")\n",
    "\n",
    "# Step 6: Generate Synthetic Data\n",
    "generator = DataGenerator()\n",
    "generator.generate_dataset_in_correlated_attribute_mode(num_tuples_to_generate, \"data_description.json\")\n",
    "\n",
    "# Save the synthetic data to a CSV file\n",
    "generator.save_synthetic_data(\"synthetic_data.csv\")\n",
    "\n",
    "# Step 7: Load and Inspect the Synthetic Data\n",
    "synthetic_df = pd.read_csv(\"synthetic_data.csv\")\n",
    "print(synthetic_df.head())"
   ]
  },
  {
   "cell_type": "code",
   "execution_count": null,
   "id": "8ac157cb-b476-4673-b3bf-819886125179",
   "metadata": {},
   "outputs": [],
   "source": [
    "# Initialize the DataGenerator\n",
    "generator = DataGenerator()\n",
    "generator.generate_dataset_in_correlated_attribute_mode(num_tuples_to_generate, \"data_description.json\")\n",
    "\n",
    "# Save the synthetic data to a CSV file\n",
    "generator.save_synthetic_data(\"synthetic_data.csv\")"
   ]
  },
  {
   "cell_type": "code",
   "execution_count": null,
   "id": "d907c3e1-7754-40e9-b205-413a6535110f",
   "metadata": {},
   "outputs": [],
   "source": [
    "# Load synthetic data\n",
    "synthetic_df = pd.read_csv(\"synthetic_data.csv\")\n",
    "print(synthetic_df.head())"
   ]
  }
 ],
 "metadata": {
  "kernelspec": {
   "display_name": "Python tcsenv",
   "language": "python",
   "name": "myenv"
  },
  "language_info": {
   "codemirror_mode": {
    "name": "ipython",
    "version": 3
   },
   "file_extension": ".py",
   "mimetype": "text/x-python",
   "name": "python",
   "nbconvert_exporter": "python",
   "pygments_lexer": "ipython3",
   "version": "3.10.15"
  }
 },
 "nbformat": 4,
 "nbformat_minor": 5
}
