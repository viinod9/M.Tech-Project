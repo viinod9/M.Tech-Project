{
 "cells": [
  {
   "cell_type": "code",
   "execution_count": 1,
   "id": "81c4afe4-1386-454f-a3e6-744faf43cd83",
   "metadata": {},
   "outputs": [
    {
     "name": "stdout",
     "output_type": "stream",
     "text": [
      "Requirement already satisfied: sdv in /opt/anaconda3/lib/python3.12/site-packages (1.13.0)\n",
      "Requirement already satisfied: boto3>=1.28 in /opt/anaconda3/lib/python3.12/site-packages (from sdv) (1.35.46)\n",
      "Requirement already satisfied: botocore>=1.31 in /opt/anaconda3/lib/python3.12/site-packages (from sdv) (1.35.48)\n",
      "Requirement already satisfied: cloudpickle>=2.1.0 in /opt/anaconda3/lib/python3.12/site-packages (from sdv) (2.2.1)\n",
      "Requirement already satisfied: graphviz>=0.13.2 in /opt/anaconda3/lib/python3.12/site-packages (from sdv) (0.20.3)\n",
      "Requirement already satisfied: tqdm>=4.29 in /opt/anaconda3/lib/python3.12/site-packages (from sdv) (4.66.4)\n",
      "Requirement already satisfied: copulas>=0.11.0 in /opt/anaconda3/lib/python3.12/site-packages (from sdv) (0.11.1)\n",
      "Requirement already satisfied: ctgan>=0.10.0 in /opt/anaconda3/lib/python3.12/site-packages (from sdv) (0.10.2)\n",
      "Requirement already satisfied: deepecho>=0.6.0 in /opt/anaconda3/lib/python3.12/site-packages (from sdv) (0.6.1)\n",
      "Requirement already satisfied: rdt>=1.12.0 in /opt/anaconda3/lib/python3.12/site-packages (from sdv) (1.13.0)\n",
      "Requirement already satisfied: sdmetrics>=0.14.0 in /opt/anaconda3/lib/python3.12/site-packages (from sdv) (0.16.0)\n",
      "Requirement already satisfied: platformdirs>=4.0 in /opt/anaconda3/lib/python3.12/site-packages (from sdv) (4.3.6)\n",
      "Requirement already satisfied: numpy<2,>=1.26.0 in /opt/anaconda3/lib/python3.12/site-packages (from sdv) (1.26.4)\n",
      "Requirement already satisfied: pandas>=2.1.1 in /opt/anaconda3/lib/python3.12/site-packages (from sdv) (2.2.2)\n",
      "Requirement already satisfied: jmespath<2.0.0,>=0.7.1 in /opt/anaconda3/lib/python3.12/site-packages (from boto3>=1.28->sdv) (1.0.1)\n",
      "Requirement already satisfied: s3transfer<0.11.0,>=0.10.0 in /opt/anaconda3/lib/python3.12/site-packages (from boto3>=1.28->sdv) (0.10.3)\n",
      "Requirement already satisfied: python-dateutil<3.0.0,>=2.1 in /opt/anaconda3/lib/python3.12/site-packages (from botocore>=1.31->sdv) (2.9.0.post0)\n",
      "Requirement already satisfied: urllib3!=2.2.0,<3,>=1.25.4 in /opt/anaconda3/lib/python3.12/site-packages (from botocore>=1.31->sdv) (2.2.2)\n",
      "Requirement already satisfied: plotly>=5.10.0 in /opt/anaconda3/lib/python3.12/site-packages (from copulas>=0.11.0->sdv) (5.22.0)\n",
      "Requirement already satisfied: scipy>=1.12.0 in /opt/anaconda3/lib/python3.12/site-packages (from copulas>=0.11.0->sdv) (1.13.1)\n",
      "Requirement already satisfied: torch>=2.2.0 in /opt/anaconda3/lib/python3.12/site-packages (from ctgan>=0.10.0->sdv) (2.5.0)\n",
      "Requirement already satisfied: pytz>=2020.1 in /opt/anaconda3/lib/python3.12/site-packages (from pandas>=2.1.1->sdv) (2024.1)\n",
      "Requirement already satisfied: tzdata>=2022.7 in /opt/anaconda3/lib/python3.12/site-packages (from pandas>=2.1.1->sdv) (2023.3)\n",
      "Requirement already satisfied: Faker>=17 in /opt/anaconda3/lib/python3.12/site-packages (from rdt>=1.12.0->sdv) (30.8.0)\n",
      "Requirement already satisfied: scikit-learn>=1.3.1 in /opt/anaconda3/lib/python3.12/site-packages (from rdt>=1.12.0->sdv) (1.4.2)\n",
      "Requirement already satisfied: typing-extensions in /opt/anaconda3/lib/python3.12/site-packages (from Faker>=17->rdt>=1.12.0->sdv) (4.11.0)\n",
      "Requirement already satisfied: tenacity>=6.2.0 in /opt/anaconda3/lib/python3.12/site-packages (from plotly>=5.10.0->copulas>=0.11.0->sdv) (8.2.2)\n",
      "Requirement already satisfied: packaging in /opt/anaconda3/lib/python3.12/site-packages (from plotly>=5.10.0->copulas>=0.11.0->sdv) (23.0)\n",
      "Requirement already satisfied: six>=1.5 in /opt/anaconda3/lib/python3.12/site-packages (from python-dateutil<3.0.0,>=2.1->botocore>=1.31->sdv) (1.16.0)\n",
      "Requirement already satisfied: joblib>=1.2.0 in /opt/anaconda3/lib/python3.12/site-packages (from scikit-learn>=1.3.1->rdt>=1.12.0->sdv) (1.4.2)\n",
      "Requirement already satisfied: threadpoolctl>=2.0.0 in /opt/anaconda3/lib/python3.12/site-packages (from scikit-learn>=1.3.1->rdt>=1.12.0->sdv) (2.2.0)\n",
      "Requirement already satisfied: filelock in /opt/anaconda3/lib/python3.12/site-packages (from torch>=2.2.0->ctgan>=0.10.0->sdv) (3.13.1)\n",
      "Requirement already satisfied: networkx in /opt/anaconda3/lib/python3.12/site-packages (from torch>=2.2.0->ctgan>=0.10.0->sdv) (3.2.1)\n",
      "Requirement already satisfied: jinja2 in /opt/anaconda3/lib/python3.12/site-packages (from torch>=2.2.0->ctgan>=0.10.0->sdv) (3.1.4)\n",
      "Requirement already satisfied: fsspec in /opt/anaconda3/lib/python3.12/site-packages (from torch>=2.2.0->ctgan>=0.10.0->sdv) (2024.3.1)\n",
      "Requirement already satisfied: setuptools in /opt/anaconda3/lib/python3.12/site-packages (from torch>=2.2.0->ctgan>=0.10.0->sdv) (69.5.1)\n",
      "Requirement already satisfied: sympy==1.13.1 in /opt/anaconda3/lib/python3.12/site-packages (from torch>=2.2.0->ctgan>=0.10.0->sdv) (1.13.1)\n",
      "Requirement already satisfied: mpmath<1.4,>=1.1.0 in /opt/anaconda3/lib/python3.12/site-packages (from sympy==1.13.1->torch>=2.2.0->ctgan>=0.10.0->sdv) (1.3.0)\n",
      "Requirement already satisfied: MarkupSafe>=2.0 in /opt/anaconda3/lib/python3.12/site-packages (from jinja2->torch>=2.2.0->ctgan>=0.10.0->sdv) (2.1.3)\n",
      "Note: you may need to restart the kernel to use updated packages.\n"
     ]
    }
   ],
   "source": [
    "pip install sdv"
   ]
  },
  {
   "cell_type": "code",
   "execution_count": 11,
   "id": "e18fb37d-9ad6-400b-9cdf-18379db98148",
   "metadata": {},
   "outputs": [
    {
     "name": "stdout",
     "output_type": "stream",
     "text": [
      "Single-table datasets:               dataset_name  size_MB  num_tables\n",
      "0                   KRK_v1     0.06           1\n",
      "1                    adult     3.91           1\n",
      "2                    alarm     4.52           1\n",
      "3                     asia     1.28           1\n",
      "4                   census    98.17           1\n",
      "5          census_extended     4.95           1\n",
      "6                    child     3.20           1\n",
      "7                  covtype   255.65           1\n",
      "8                   credit    68.35           1\n",
      "9       expedia_hotel_logs     0.20           1\n",
      "10          fake_companies     0.00           1\n",
      "11       fake_hotel_guests     0.03           1\n",
      "12                    grid     0.32           1\n",
      "13                   gridr     0.32           1\n",
      "14               insurance     3.34           1\n",
      "15               intrusion   162.04           1\n",
      "16                 mnist12    81.20           1\n",
      "17                 mnist28   439.60           1\n",
      "18                    news    18.71           1\n",
      "19                    ring     0.32           1\n",
      "20      student_placements     0.03           1\n",
      "21  student_placements_pii     0.03           1\n"
     ]
    }
   ],
   "source": [
    "from sdv.datasets.demo import get_available_demos\n",
    "\n",
    "# All available single-table demo datasets\n",
    "available_demos_single_table = get_available_demos(modality=\"single_table\")\n",
    "print(\"Single-table datasets:\", available_demos_single_table)"
   ]
  },
  {
   "cell_type": "code",
   "execution_count": 14,
   "id": "dbd4b1b1-8728-459c-bf9f-6fdf60025418",
   "metadata": {},
   "outputs": [
    {
     "name": "stdout",
     "output_type": "stream",
     "text": [
      "Multi-table datasets:              dataset_name  size_MB  num_tables\n",
      "0            Accidents_v1   219.33           3\n",
      "1      Atherosclerosis_v1     6.62           4\n",
      "2   AustralianFootball_v1    31.18           4\n",
      "3     Biodegradability_v1     0.57           5\n",
      "4                 Bupa_v1     0.04           9\n",
      "5                 CORA_v1     1.79           3\n",
      "6       Carcinogenesis_v1     0.94           6\n",
      "7                Chess_v1     0.25           2\n",
      "8            Countries_v1     9.93           4\n",
      "9                  DCG_v1     0.25           2\n",
      "10               Dunur_v1     0.01          17\n",
      "11                Elti_v1     0.05          11\n",
      "12                FNHK_v1   120.00           3\n",
      "13            Facebook_v1     1.38           2\n",
      "14       Hepatitis_std_v1     0.68           7\n",
      "15                Mesh_v1     0.04          29\n",
      "16       Mooney_Family_v1     0.10          68\n",
      "17           MuskSmall_v1     0.64           2\n",
      "18                 NBA_v1     0.15           4\n",
      "19                NCAA_v1    27.15           9\n",
      "20                 PTE_v1     0.95          38\n",
      "21                Pima_v1     0.11           9\n",
      "22       PremierLeague_v1    17.20           4\n",
      "23          Pyrimidine_v1     0.02           2\n",
      "24                 SAP_v1   148.44           4\n",
      "25                 SAT_v1     0.32          36\n",
      "26             SalesDB_v1   269.25           4\n",
      "27            Same_gen_v1     0.04           4\n",
      "28        Student_loan_v1     0.09          10\n",
      "29             Telstra_v1     3.87           5\n",
      "30          Toxicology_v1     1.03           4\n",
      "31            Triazine_v1     0.12           2\n",
      "32         TubePricing_v1     9.67          20\n",
      "33               UTube_v1     0.11           2\n",
      "34              UW_std_v1     0.02           4\n",
      "35               WebKP_v1     1.96           3\n",
      "36      airbnb-simplified   293.14           2\n",
      "37            fake_hotels     0.05           2\n",
      "38   fake_hotels_extended     0.07           2\n",
      "39           financial_v1    85.38           8\n",
      "40                 ftp_v1     4.68           2\n",
      "41               genes_v1     0.36           3\n",
      "42           got_families     0.00           3\n",
      "43      imdb_MovieLens_v1    39.20           7\n",
      "44            imdb_ijs_v1   173.90           7\n",
      "45          imdb_small_v1     0.15           7\n",
      "46           legalActs_v1   130.30           5\n",
      "47         mutagenesis_v1     0.37           3\n",
      "48             nations_v1     0.45           3\n",
      "49            restbase_v1     0.69           3\n",
      "50               rossmann    73.33           2\n",
      "51              trains_v1     0.01           2\n",
      "52          university_v1     0.01           5\n",
      "53                walmart    14.64           3\n",
      "54               world_v1     0.23           3\n"
     ]
    }
   ],
   "source": [
    "# All available multi-table demo datasets\n",
    "available_demos_multi_table = get_available_demos(modality=\"multi_table\")\n",
    "print(\"Multi-table datasets:\", available_demos_multi_table)"
   ]
  },
  {
   "cell_type": "code",
   "execution_count": 88,
   "id": "365ed9b1-b16b-4348-8be0-e20ff0dfac24",
   "metadata": {},
   "outputs": [
    {
     "name": "stdout",
     "output_type": "stream",
     "text": [
      "Multi-table datasets:                  dataset_name  size_MB  num_tables\n",
      "0   ArticularyWordRecognition     7.95           1\n",
      "1          AtrialFibrillation     0.77           1\n",
      "2                BasicMotions     0.64           1\n",
      "3       CharacterTrajectories    19.19           1\n",
      "4                     Cricket    17.24           1\n",
      "5               DuckDuckGeese   291.38           1\n",
      "6                       ERing     1.25           1\n",
      "7                  EchoNASDAQ     4.16           1\n",
      "8                  EigenWorms   372.63           1\n",
      "9                    Epilepsy     2.72           1\n",
      "10       EthanolConcentration    51.38           1\n",
      "11              FaceDetection   691.06           1\n",
      "12            FingerMovements     5.32           1\n",
      "13      HandMovementDirection    10.48           1\n",
      "14                Handwriting     8.51           1\n",
      "15                  Heartbeat    86.14           1\n",
      "16             InsectWingbeat   547.59           1\n",
      "17             JapaneseVowels     1.28           1\n",
      "18                       LSST    14.18           1\n",
      "19                     Libras     0.78           1\n",
      "20               MotorImagery   616.90           1\n",
      "21                     NATOPS     4.11           1\n",
      "22                    PEMS-SF   490.15           1\n",
      "23                  PenDigits     4.22           1\n",
      "24             PhonemeSpectra   173.63           1\n",
      "25               RacketSports     0.73           1\n",
      "26         SelfRegulationSCP1    40.21           1\n",
      "27         SelfRegulationSCP2    38.52           1\n",
      "28         SpokenArabicDigits    47.63           1\n",
      "29              StandWalkJump     4.32           1\n",
      "30        UWaveGestureLibrary     7.76           1\n",
      "31             nasdaq100_2019     1.65           1\n"
     ]
    }
   ],
   "source": [
    "# All available sequential demo datasets\n",
    "available_demos_sequential = get_available_demos(modality=\"sequential\")\n",
    "print(\"Multi-table datasets:\", available_demos_sequential)"
   ]
  },
  {
   "cell_type": "markdown",
   "id": "e6dc67b3-2c32-4347-8486-7247e900966e",
   "metadata": {},
   "source": [
    "# For Multitable Data"
   ]
  },
  {
   "cell_type": "code",
   "execution_count": 16,
   "id": "faa37739-8b3b-4e42-b0cd-75376a6a698c",
   "metadata": {},
   "outputs": [],
   "source": [
    "# Import necessary libraries\n",
    "from sdv.datasets.demo import download_demo\n",
    "from sdv.multi_table import HMASynthesizer\n",
    "from sdv.evaluation.multi_table import run_diagnostic, evaluate_quality, get_column_plot\n"
   ]
  },
  {
   "cell_type": "code",
   "execution_count": 18,
   "id": "f2593165-357f-41ef-9146-e344aecbfdba",
   "metadata": {},
   "outputs": [],
   "source": [
    "# Download the Walmart demo multi-table dataset\n",
    "real_data, metadata = download_demo(\n",
    "    modality='multi_table',\n",
    "    dataset_name='walmart'\n",
    ")"
   ]
  },
  {
   "cell_type": "code",
   "execution_count": 20,
   "id": "76f4d59a-0052-4445-ba4f-4fb9afb952f3",
   "metadata": {},
   "outputs": [
    {
     "data": {
      "text/plain": [
       "{'depts':         Store  Dept        Date  Weekly_Sales  IsHoliday\n",
       " 0           1     1  2010-02-05      24924.50      False\n",
       " 1           1     1  2010-02-12      46039.49       True\n",
       " 2           1     1  2010-02-19      41595.55      False\n",
       " 3           1     1  2010-02-26      19403.54      False\n",
       " 4           1     1  2010-03-05      21827.90      False\n",
       " ...       ...   ...         ...           ...        ...\n",
       " 421565     45    98  2012-09-28        508.37      False\n",
       " 421566     45    98  2012-10-05        628.10      False\n",
       " 421567     45    98  2012-10-12       1061.02      False\n",
       " 421568     45    98  2012-10-19        760.01      False\n",
       " 421569     45    98  2012-10-26       1076.80      False\n",
       " \n",
       " [421570 rows x 5 columns],\n",
       " 'features':       Store        Date  Temperature  Fuel_Price  MarkDown1  MarkDown2  \\\n",
       " 0         1  2010-02-05        42.31       2.572        NaN        NaN   \n",
       " 1         1  2010-02-12        38.51       2.548        NaN        NaN   \n",
       " 2         1  2010-02-19        39.93       2.514        NaN        NaN   \n",
       " 3         1  2010-02-26        46.63       2.561        NaN        NaN   \n",
       " 4         1  2010-03-05        46.50       2.625        NaN        NaN   \n",
       " ...     ...         ...          ...         ...        ...        ...   \n",
       " 8185     45  2013-06-28        76.05       3.639    4842.29     975.03   \n",
       " 8186     45  2013-07-05        77.50       3.614    9090.48    2268.58   \n",
       " 8187     45  2013-07-12        79.37       3.614    3789.94    1827.31   \n",
       " 8188     45  2013-07-19        82.84       3.737    2961.49    1047.07   \n",
       " 8189     45  2013-07-26        76.06       3.804     212.02     851.73   \n",
       " \n",
       "       MarkDown3  MarkDown4  MarkDown5         CPI  Unemployment  IsHoliday  \n",
       " 0           NaN        NaN        NaN  211.096358         8.106      False  \n",
       " 1           NaN        NaN        NaN  211.242170         8.106       True  \n",
       " 2           NaN        NaN        NaN  211.289143         8.106      False  \n",
       " 3           NaN        NaN        NaN  211.319643         8.106      False  \n",
       " 4           NaN        NaN        NaN  211.350143         8.106      False  \n",
       " ...         ...        ...        ...         ...           ...        ...  \n",
       " 8185       3.00    2449.97    3169.69         NaN           NaN      False  \n",
       " 8186     582.74    5797.47    1514.93         NaN           NaN      False  \n",
       " 8187      85.72     744.84    2150.36         NaN           NaN      False  \n",
       " 8188     204.19     363.00    1059.46         NaN           NaN      False  \n",
       " 8189       2.06      10.88    1864.57         NaN           NaN      False  \n",
       " \n",
       " [8190 rows x 12 columns],\n",
       " 'stores':     Store Type    Size\n",
       " 0       1    A  151315\n",
       " 1       2    A  202307\n",
       " 2       3    B   37392\n",
       " 3       4    A  205863\n",
       " 4       5    B   34875\n",
       " 5       6    A  202505\n",
       " 6       7    B   70713\n",
       " 7       8    A  155078\n",
       " 8       9    B  125833\n",
       " 9      10    B  126512\n",
       " 10     11    A  207499\n",
       " 11     12    B  112238\n",
       " 12     13    A  219622\n",
       " 13     14    A  200898\n",
       " 14     15    B  123737\n",
       " 15     16    B   57197\n",
       " 16     17    B   93188\n",
       " 17     18    B  120653\n",
       " 18     19    A  203819\n",
       " 19     20    A  203742\n",
       " 20     21    B  140167\n",
       " 21     22    B  119557\n",
       " 22     23    B  114533\n",
       " 23     24    A  203819\n",
       " 24     25    B  128107\n",
       " 25     26    A  152513\n",
       " 26     27    A  204184\n",
       " 27     28    A  206302\n",
       " 28     29    B   93638\n",
       " 29     30    C   42988\n",
       " 30     31    A  203750\n",
       " 31     32    A  203007\n",
       " 32     33    A   39690\n",
       " 33     34    A  158114\n",
       " 34     35    B  103681\n",
       " 35     36    A   39910\n",
       " 36     37    C   39910\n",
       " 37     38    C   39690\n",
       " 38     39    A  184109\n",
       " 39     40    A  155083\n",
       " 40     41    A  196321\n",
       " 41     42    C   39690\n",
       " 42     43    C   41062\n",
       " 43     44    C   39910\n",
       " 44     45    B  118221}"
      ]
     },
     "execution_count": 20,
     "metadata": {},
     "output_type": "execute_result"
    }
   ],
   "source": [
    "real_data"
   ]
  },
  {
   "cell_type": "code",
   "execution_count": 22,
   "id": "cbb622d1-025a-4201-82a1-8abcefeecd62",
   "metadata": {},
   "outputs": [
    {
     "data": {
      "text/plain": [
       "{\n",
       "    \"tables\": {\n",
       "        \"stores\": {\n",
       "            \"columns\": {\n",
       "                \"Type\": {\n",
       "                    \"sdtype\": \"categorical\"\n",
       "                },\n",
       "                \"Size\": {\n",
       "                    \"sdtype\": \"numerical\",\n",
       "                    \"computer_representation\": \"Int64\"\n",
       "                },\n",
       "                \"Store\": {\n",
       "                    \"sdtype\": \"id\"\n",
       "                }\n",
       "            },\n",
       "            \"primary_key\": \"Store\"\n",
       "        },\n",
       "        \"features\": {\n",
       "            \"columns\": {\n",
       "                \"Date\": {\n",
       "                    \"sdtype\": \"datetime\",\n",
       "                    \"datetime_format\": \"%Y-%m-%d\"\n",
       "                },\n",
       "                \"MarkDown1\": {\n",
       "                    \"sdtype\": \"numerical\",\n",
       "                    \"computer_representation\": \"Float\"\n",
       "                },\n",
       "                \"Store\": {\n",
       "                    \"sdtype\": \"id\"\n",
       "                },\n",
       "                \"IsHoliday\": {\n",
       "                    \"sdtype\": \"boolean\"\n",
       "                },\n",
       "                \"MarkDown4\": {\n",
       "                    \"sdtype\": \"numerical\",\n",
       "                    \"computer_representation\": \"Float\"\n",
       "                },\n",
       "                \"MarkDown3\": {\n",
       "                    \"sdtype\": \"numerical\",\n",
       "                    \"computer_representation\": \"Float\"\n",
       "                },\n",
       "                \"Fuel_Price\": {\n",
       "                    \"sdtype\": \"numerical\",\n",
       "                    \"computer_representation\": \"Float\"\n",
       "                },\n",
       "                \"Unemployment\": {\n",
       "                    \"sdtype\": \"numerical\",\n",
       "                    \"computer_representation\": \"Float\"\n",
       "                },\n",
       "                \"Temperature\": {\n",
       "                    \"sdtype\": \"numerical\",\n",
       "                    \"computer_representation\": \"Float\"\n",
       "                },\n",
       "                \"MarkDown5\": {\n",
       "                    \"sdtype\": \"numerical\",\n",
       "                    \"computer_representation\": \"Float\"\n",
       "                },\n",
       "                \"MarkDown2\": {\n",
       "                    \"sdtype\": \"numerical\",\n",
       "                    \"computer_representation\": \"Float\"\n",
       "                },\n",
       "                \"CPI\": {\n",
       "                    \"sdtype\": \"numerical\",\n",
       "                    \"computer_representation\": \"Float\"\n",
       "                }\n",
       "            }\n",
       "        },\n",
       "        \"depts\": {\n",
       "            \"columns\": {\n",
       "                \"Date\": {\n",
       "                    \"sdtype\": \"datetime\",\n",
       "                    \"datetime_format\": \"%Y-%m-%d\"\n",
       "                },\n",
       "                \"Weekly_Sales\": {\n",
       "                    \"sdtype\": \"numerical\",\n",
       "                    \"computer_representation\": \"Float\"\n",
       "                },\n",
       "                \"Store\": {\n",
       "                    \"sdtype\": \"id\"\n",
       "                },\n",
       "                \"Dept\": {\n",
       "                    \"sdtype\": \"numerical\",\n",
       "                    \"computer_representation\": \"Int64\"\n",
       "                },\n",
       "                \"IsHoliday\": {\n",
       "                    \"sdtype\": \"boolean\"\n",
       "                }\n",
       "            }\n",
       "        }\n",
       "    },\n",
       "    \"relationships\": [\n",
       "        {\n",
       "            \"parent_table_name\": \"stores\",\n",
       "            \"parent_primary_key\": \"Store\",\n",
       "            \"child_table_name\": \"features\",\n",
       "            \"child_foreign_key\": \"Store\"\n",
       "        },\n",
       "        {\n",
       "            \"parent_table_name\": \"stores\",\n",
       "            \"parent_primary_key\": \"Store\",\n",
       "            \"child_table_name\": \"depts\",\n",
       "            \"child_foreign_key\": \"Store\"\n",
       "        }\n",
       "    ],\n",
       "    \"METADATA_SPEC_VERSION\": \"MULTI_TABLE_V1\"\n",
       "}"
      ]
     },
     "execution_count": 22,
     "metadata": {},
     "output_type": "execute_result"
    }
   ],
   "source": [
    "metadata"
   ]
  },
  {
   "cell_type": "code",
   "execution_count": 34,
   "id": "d3ed2da3-d459-46ca-ae44-602188806b9d",
   "metadata": {},
   "outputs": [
    {
     "name": "stderr",
     "output_type": "stream",
     "text": [
      "Preprocess Tables: 100%|██████████████████████████| 3/3 [00:02<00:00,  1.00it/s]\n"
     ]
    },
    {
     "name": "stdout",
     "output_type": "stream",
     "text": [
      "\n",
      "Learning relationships:\n"
     ]
    },
    {
     "name": "stderr",
     "output_type": "stream",
     "text": [
      "(1/2) Tables 'stores' and 'features' ('Store'): 100%|█| 45/45 [00:10<00:00,  4.4\n",
      "(2/2) Tables 'stores' and 'depts' ('Store'): 100%|█| 45/45 [00:17<00:00,  2.54it\n"
     ]
    },
    {
     "name": "stdout",
     "output_type": "stream",
     "text": [
      "\n"
     ]
    },
    {
     "name": "stderr",
     "output_type": "stream",
     "text": [
      "Modeling Tables: 100%|████████████████████████████| 3/3 [00:17<00:00,  5.85s/it]\n"
     ]
    }
   ],
   "source": [
    "# Initialize and fit the synthesizer\n",
    "synthesizer = HMASynthesizer(metadata)\n",
    "synthesizer.fit(real_data)\n"
   ]
  },
  {
   "cell_type": "code",
   "execution_count": 38,
   "id": "17d5eacf-8348-46c2-b08e-95a8471a30ff",
   "metadata": {},
   "outputs": [],
   "source": [
    "# Generate synthetic data\n",
    "synthetic_data = synthesizer.sample(scale=2)\n"
   ]
  },
  {
   "cell_type": "code",
   "execution_count": 40,
   "id": "3fd67804-2bab-4084-a3fc-e495c76a62f6",
   "metadata": {},
   "outputs": [
    {
     "name": "stdout",
     "output_type": "stream",
     "text": [
      "Generating report ...\n",
      "\n",
      "(1/3) Evaluating Data Validity: |█████████████| 20/20 [00:00<00:00, 272.29it/s]|\n",
      "Data Validity Score: 100.0%\n",
      "\n",
      "(2/3) Evaluating Data Structure: |█████████████| 3/3 [00:00<00:00, 1227.12it/s]|\n",
      "Data Structure Score: 100.0%\n",
      "\n",
      "(3/3) Evaluating Relationship Validity: |███████| 2/2 [00:00<00:00, 166.85it/s]|\n",
      "Relationship Validity Score: 100.0%\n",
      "\n",
      "Overall Score (Average): 100.0%\n",
      "\n",
      "<sdmetrics.reports.multi_table.diagnostic_report.DiagnosticReport object at 0x168a3c1a0>\n"
     ]
    }
   ],
   "source": [
    "# Step 6: Run diagnostic tests\n",
    "diagnostic = run_diagnostic(\n",
    "    real_data=real_data,\n",
    "    synthetic_data=synthetic_data,\n",
    "    metadata=metadata\n",
    ")\n",
    "print(diagnostic)\n"
   ]
  },
  {
   "cell_type": "code",
   "execution_count": 42,
   "id": "3882c3bf-2e28-4e70-a4ea-7c7e58097b8b",
   "metadata": {},
   "outputs": [
    {
     "name": "stdout",
     "output_type": "stream",
     "text": [
      "Generating report ...\n",
      "\n",
      "(1/4) Evaluating Column Shapes: |██████████████| 20/20 [00:01<00:00, 12.28it/s]|\n",
      "Column Shapes Score: 76.62%\n",
      "\n",
      "(2/4) Evaluating Column Pair Trends: |████████| 79/79 [00:00<00:00, 146.29it/s]|\n",
      "Column Pair Trends Score: 90.57%\n",
      "\n",
      "(3/4) Evaluating Cardinality: |█████████████████| 2/2 [00:00<00:00, 230.79it/s]|\n",
      "Cardinality Score: 85.56%\n",
      "\n",
      "(4/4) Evaluating Intertable Trends: |██████████| 51/51 [00:00<00:00, 67.92it/s]|\n",
      "Intertable Trends Score: 84.06%\n",
      "\n",
      "Overall Score (Average): 84.2%\n",
      "\n",
      "       Table        Column        Metric     Score\n",
      "0     stores          Type  TVComplement  0.888889\n",
      "1     stores          Size  KSComplement  0.822222\n",
      "2   features          Date  KSComplement  0.973687\n",
      "3   features     MarkDown1  KSComplement  0.625792\n",
      "4   features     IsHoliday  TVComplement  0.989621\n",
      "5   features     MarkDown4  KSComplement  0.591564\n",
      "6   features     MarkDown3  KSComplement  0.464466\n",
      "7   features    Fuel_Price  KSComplement  0.699451\n",
      "8   features  Unemployment  KSComplement  0.675487\n",
      "9   features   Temperature  KSComplement  0.984249\n",
      "10  features     MarkDown5  KSComplement  0.615808\n",
      "11  features     MarkDown2  KSComplement  0.763077\n",
      "12  features           CPI  KSComplement  0.587507\n",
      "13     depts          Date  KSComplement  0.991679\n",
      "14     depts  Weekly_Sales  KSComplement  0.451477\n",
      "15     depts          Dept  KSComplement  0.901621\n",
      "16     depts     IsHoliday  TVComplement  0.999547\n"
     ]
    }
   ],
   "source": [
    "# Evaluate quality of synthetic data\n",
    "quality_report = evaluate_quality(\n",
    "    real_data=real_data,\n",
    "    synthetic_data=synthetic_data,\n",
    "    metadata=metadata\n",
    ")\n",
    "print(quality_report.get_details('Column Shapes'))\n"
   ]
  },
  {
   "cell_type": "code",
   "execution_count": 68,
   "id": "128a2d2c-7c91-4c4e-b489-3ffdfe8d362a",
   "metadata": {},
   "outputs": [
    {
     "data": {
      "text/html": [
       "<iframe\n",
       "    scrolling=\"no\"\n",
       "    width=\"100%\"\n",
       "    height=\"545px\"\n",
       "    src=\"iframe_figures/figure_68.html\"\n",
       "    frameborder=\"0\"\n",
       "    allowfullscreen\n",
       "></iframe>\n"
      ]
     },
     "metadata": {},
     "output_type": "display_data"
    }
   ],
   "source": [
    "# Visualize distributions of a specific column\n",
    "fig = get_column_plot(\n",
    "    real_data=real_data,\n",
    "    synthetic_data=synthetic_data,\n",
    "    column_name='IsHoliday',\n",
    "    table_name='features',\n",
    "    metadata=metadata\n",
    ")\n",
    "fig.show()"
   ]
  },
  {
   "cell_type": "code",
   "execution_count": 72,
   "id": "58695250-c7d9-4c94-a97a-5190a246f9b5",
   "metadata": {},
   "outputs": [
    {
     "data": {
      "text/html": [
       "<iframe\n",
       "    scrolling=\"no\"\n",
       "    width=\"100%\"\n",
       "    height=\"545px\"\n",
       "    src=\"iframe_figures/figure_72.html\"\n",
       "    frameborder=\"0\"\n",
       "    allowfullscreen\n",
       "></iframe>\n"
      ]
     },
     "metadata": {},
     "output_type": "display_data"
    }
   ],
   "source": [
    "fig = get_column_plot(\n",
    "    real_data=real_data,\n",
    "    synthetic_data=synthetic_data,\n",
    "    column_name='Unemployment',\n",
    "    table_name='features',\n",
    "    metadata=metadata\n",
    ")\n",
    "fig.show()\n"
   ]
  },
  {
   "cell_type": "code",
   "execution_count": 74,
   "id": "2a8fc532-cb38-46de-8810-ee4cd458c56e",
   "metadata": {},
   "outputs": [],
   "source": [
    "# Save and load synthesizer\n",
    "#synthesizer.save('my_walmart_synthesizer.pkl')\n",
    "#synthesizer = HMASynthesizer.load('my_walmart_synthesizer.pkl')"
   ]
  },
  {
   "cell_type": "code",
   "execution_count": 78,
   "id": "8c9f44bf-a9ca-4b6e-877f-08c26762f6da",
   "metadata": {},
   "outputs": [],
   "source": [
    "# Customize synthesizer parameters\n",
    "custom_synthesizer = HMASynthesizer(metadata, verbose=False)\n",
    "custom_synthesizer.set_table_parameters(\n",
    "    table_name='features',\n",
    "    table_parameters={\n",
    "        'default_distribution': 'truncnorm'\n",
    "    }\n",
    ")\n",
    "custom_synthesizer.fit(real_data)"
   ]
  },
  {
   "cell_type": "code",
   "execution_count": 86,
   "id": "5c0ffc3a-eca0-454d-9fc9-c613d65854e3",
   "metadata": {},
   "outputs": [
    {
     "name": "stdout",
     "output_type": "stream",
     "text": [
      "{'distribution': 'beta', 'learned_parameters': {'loc': 37225.250686674466, 'scale': 182396.74931332556, 'a': 0.707387967909952, 'b': 0.6064029307532139}}\n"
     ]
    }
   ],
   "source": [
    "# Check learned distributions\n",
    "learned_distributions = custom_synthesizer.get_learned_distributions(table_name='stores')\n",
    "print(learned_distributions['Size'])"
   ]
  },
  {
   "cell_type": "markdown",
   "id": "1b8a90f9-5345-4ffe-94de-d8d0af1d73a6",
   "metadata": {},
   "source": [
    "# For Sequential Data"
   ]
  },
  {
   "cell_type": "code",
   "execution_count": 146,
   "id": "5f39e9d4-4f62-430b-a378-e47247a71494",
   "metadata": {},
   "outputs": [
    {
     "data": {
      "text/html": [
       "<div>\n",
       "<style scoped>\n",
       "    .dataframe tbody tr th:only-of-type {\n",
       "        vertical-align: middle;\n",
       "    }\n",
       "\n",
       "    .dataframe tbody tr th {\n",
       "        vertical-align: top;\n",
       "    }\n",
       "\n",
       "    .dataframe thead th {\n",
       "        text-align: right;\n",
       "    }\n",
       "</style>\n",
       "<table border=\"1\" class=\"dataframe\">\n",
       "  <thead>\n",
       "    <tr style=\"text-align: right;\">\n",
       "      <th></th>\n",
       "      <th>ml_class</th>\n",
       "      <th>e_id</th>\n",
       "      <th>s_index</th>\n",
       "      <th>tt_split</th>\n",
       "      <th>dim_0</th>\n",
       "      <th>dim_1</th>\n",
       "      <th>dim_2</th>\n",
       "      <th>dim_3</th>\n",
       "      <th>dim_4</th>\n",
       "      <th>dim_5</th>\n",
       "    </tr>\n",
       "  </thead>\n",
       "  <tbody>\n",
       "    <tr>\n",
       "      <th>0</th>\n",
       "      <td>1.0</td>\n",
       "      <td>0</td>\n",
       "      <td>0</td>\n",
       "      <td>1</td>\n",
       "      <td>-0.97211</td>\n",
       "      <td>-0.23077</td>\n",
       "      <td>-0.46863</td>\n",
       "      <td>-0.57729</td>\n",
       "      <td>0.29993</td>\n",
       "      <td>-0.44158</td>\n",
       "    </tr>\n",
       "    <tr>\n",
       "      <th>1</th>\n",
       "      <td>1.0</td>\n",
       "      <td>0</td>\n",
       "      <td>1</td>\n",
       "      <td>1</td>\n",
       "      <td>-0.95768</td>\n",
       "      <td>-0.23077</td>\n",
       "      <td>-0.43983</td>\n",
       "      <td>-0.75975</td>\n",
       "      <td>0.31719</td>\n",
       "      <td>-0.40136</td>\n",
       "    </tr>\n",
       "    <tr>\n",
       "      <th>2</th>\n",
       "      <td>1.0</td>\n",
       "      <td>0</td>\n",
       "      <td>2</td>\n",
       "      <td>1</td>\n",
       "      <td>-0.95901</td>\n",
       "      <td>-0.23077</td>\n",
       "      <td>-0.45135</td>\n",
       "      <td>-0.80110</td>\n",
       "      <td>0.33099</td>\n",
       "      <td>-0.39331</td>\n",
       "    </tr>\n",
       "    <tr>\n",
       "      <th>3</th>\n",
       "      <td>1.0</td>\n",
       "      <td>0</td>\n",
       "      <td>3</td>\n",
       "      <td>1</td>\n",
       "      <td>-0.95901</td>\n",
       "      <td>-0.23077</td>\n",
       "      <td>-0.45135</td>\n",
       "      <td>-0.85827</td>\n",
       "      <td>0.34135</td>\n",
       "      <td>-0.39331</td>\n",
       "    </tr>\n",
       "    <tr>\n",
       "      <th>4</th>\n",
       "      <td>1.0</td>\n",
       "      <td>0</td>\n",
       "      <td>4</td>\n",
       "      <td>1</td>\n",
       "      <td>-0.95035</td>\n",
       "      <td>-0.23077</td>\n",
       "      <td>-0.48591</td>\n",
       "      <td>-0.86314</td>\n",
       "      <td>0.35170</td>\n",
       "      <td>-0.40538</td>\n",
       "    </tr>\n",
       "    <tr>\n",
       "      <th>...</th>\n",
       "      <td>...</td>\n",
       "      <td>...</td>\n",
       "      <td>...</td>\n",
       "      <td>...</td>\n",
       "      <td>...</td>\n",
       "      <td>...</td>\n",
       "      <td>...</td>\n",
       "      <td>...</td>\n",
       "      <td>...</td>\n",
       "      <td>...</td>\n",
       "    </tr>\n",
       "    <tr>\n",
       "      <th>215455</th>\n",
       "      <td>12.0</td>\n",
       "      <td>179</td>\n",
       "      <td>1192</td>\n",
       "      <td>0</td>\n",
       "      <td>-0.80905</td>\n",
       "      <td>-0.81754</td>\n",
       "      <td>-0.97521</td>\n",
       "      <td>-0.85391</td>\n",
       "      <td>0.89645</td>\n",
       "      <td>-1.01990</td>\n",
       "    </tr>\n",
       "    <tr>\n",
       "      <th>215456</th>\n",
       "      <td>12.0</td>\n",
       "      <td>179</td>\n",
       "      <td>1193</td>\n",
       "      <td>0</td>\n",
       "      <td>-0.80905</td>\n",
       "      <td>-0.81754</td>\n",
       "      <td>-0.97521</td>\n",
       "      <td>-0.85391</td>\n",
       "      <td>0.87353</td>\n",
       "      <td>-1.03540</td>\n",
       "    </tr>\n",
       "    <tr>\n",
       "      <th>215457</th>\n",
       "      <td>12.0</td>\n",
       "      <td>179</td>\n",
       "      <td>1194</td>\n",
       "      <td>0</td>\n",
       "      <td>-0.79790</td>\n",
       "      <td>-0.81754</td>\n",
       "      <td>-0.99613</td>\n",
       "      <td>-0.85391</td>\n",
       "      <td>0.85061</td>\n",
       "      <td>-1.03540</td>\n",
       "    </tr>\n",
       "    <tr>\n",
       "      <th>215458</th>\n",
       "      <td>12.0</td>\n",
       "      <td>179</td>\n",
       "      <td>1195</td>\n",
       "      <td>0</td>\n",
       "      <td>-0.78674</td>\n",
       "      <td>-0.81754</td>\n",
       "      <td>-1.01710</td>\n",
       "      <td>-0.85391</td>\n",
       "      <td>0.82770</td>\n",
       "      <td>-1.03540</td>\n",
       "    </tr>\n",
       "    <tr>\n",
       "      <th>215459</th>\n",
       "      <td>12.0</td>\n",
       "      <td>179</td>\n",
       "      <td>1196</td>\n",
       "      <td>0</td>\n",
       "      <td>-0.78674</td>\n",
       "      <td>-0.81754</td>\n",
       "      <td>-1.01710</td>\n",
       "      <td>-0.85391</td>\n",
       "      <td>0.82770</td>\n",
       "      <td>-1.03540</td>\n",
       "    </tr>\n",
       "  </tbody>\n",
       "</table>\n",
       "<p>215460 rows × 10 columns</p>\n",
       "</div>"
      ],
      "text/plain": [
       "        ml_class  e_id  s_index  tt_split    dim_0    dim_1    dim_2    dim_3  \\\n",
       "0            1.0     0        0         1 -0.97211 -0.23077 -0.46863 -0.57729   \n",
       "1            1.0     0        1         1 -0.95768 -0.23077 -0.43983 -0.75975   \n",
       "2            1.0     0        2         1 -0.95901 -0.23077 -0.45135 -0.80110   \n",
       "3            1.0     0        3         1 -0.95901 -0.23077 -0.45135 -0.85827   \n",
       "4            1.0     0        4         1 -0.95035 -0.23077 -0.48591 -0.86314   \n",
       "...          ...   ...      ...       ...      ...      ...      ...      ...   \n",
       "215455      12.0   179     1192         0 -0.80905 -0.81754 -0.97521 -0.85391   \n",
       "215456      12.0   179     1193         0 -0.80905 -0.81754 -0.97521 -0.85391   \n",
       "215457      12.0   179     1194         0 -0.79790 -0.81754 -0.99613 -0.85391   \n",
       "215458      12.0   179     1195         0 -0.78674 -0.81754 -1.01710 -0.85391   \n",
       "215459      12.0   179     1196         0 -0.78674 -0.81754 -1.01710 -0.85391   \n",
       "\n",
       "          dim_4    dim_5  \n",
       "0       0.29993 -0.44158  \n",
       "1       0.31719 -0.40136  \n",
       "2       0.33099 -0.39331  \n",
       "3       0.34135 -0.39331  \n",
       "4       0.35170 -0.40538  \n",
       "...         ...      ...  \n",
       "215455  0.89645 -1.01990  \n",
       "215456  0.87353 -1.03540  \n",
       "215457  0.85061 -1.03540  \n",
       "215458  0.82770 -1.03540  \n",
       "215459  0.82770 -1.03540  \n",
       "\n",
       "[215460 rows x 10 columns]"
      ]
     },
     "execution_count": 146,
     "metadata": {},
     "output_type": "execute_result"
    }
   ],
   "source": [
    "# Download the cricket dataset\n",
    "real_data, metadata = download_demo(\n",
    "    modality='sequential',\n",
    "    dataset_name='Cricket' \n",
    ")\n",
    "real_data"
   ]
  },
  {
   "cell_type": "code",
   "execution_count": 138,
   "id": "d8ad8032-8fe9-48d8-ba91-d1b648c7b8ba",
   "metadata": {},
   "outputs": [
    {
     "data": {
      "text/plain": [
       "{\n",
       "    \"columns\": {\n",
       "        \"dim_2\": {\n",
       "            \"sdtype\": \"numerical\",\n",
       "            \"computer_representation\": \"Float\"\n",
       "        },\n",
       "        \"e_id\": {\n",
       "            \"sdtype\": \"numerical\",\n",
       "            \"computer_representation\": \"Int64\"\n",
       "        },\n",
       "        \"dim_0\": {\n",
       "            \"sdtype\": \"numerical\",\n",
       "            \"computer_representation\": \"Float\"\n",
       "        },\n",
       "        \"dim_1\": {\n",
       "            \"sdtype\": \"numerical\",\n",
       "            \"computer_representation\": \"Float\"\n",
       "        },\n",
       "        \"ml_class\": {\n",
       "            \"sdtype\": \"categorical\"\n",
       "        }\n",
       "    },\n",
       "    \"METADATA_SPEC_VERSION\": \"SINGLE_TABLE_V1\"\n",
       "}"
      ]
     },
     "execution_count": 138,
     "metadata": {},
     "output_type": "execute_result"
    }
   ],
   "source": [
    "# Visualize the metadata for the cricket dataset\n",
    "metadata"
   ]
  },
  {
   "cell_type": "code",
   "execution_count": 140,
   "id": "06696fab-f59a-472d-a2dc-2df0bea49228",
   "metadata": {},
   "outputs": [
    {
     "ename": "SynthesizerInputError",
     "evalue": "The PARSythesizer is designed for multi-sequence data, identifiable through a sequence key. Your metadata does not include a sequence key.",
     "output_type": "error",
     "traceback": [
      "\u001b[0;31m---------------------------------------------------------------------------\u001b[0m",
      "\u001b[0;31mSynthesizerInputError\u001b[0m                     Traceback (most recent call last)",
      "Cell \u001b[0;32mIn[140], line 3\u001b[0m\n\u001b[1;32m      1\u001b[0m \u001b[38;5;28;01mfrom\u001b[39;00m \u001b[38;5;21;01msdv\u001b[39;00m\u001b[38;5;21;01m.\u001b[39;00m\u001b[38;5;21;01msequential\u001b[39;00m \u001b[38;5;28;01mimport\u001b[39;00m PARSynthesizer\n\u001b[0;32m----> 3\u001b[0m synthesizer \u001b[38;5;241m=\u001b[39m PARSynthesizer(metadata_s)\n\u001b[1;32m      5\u001b[0m synthesizer\u001b[38;5;241m.\u001b[39mfit(real_data_s)\n",
      "File \u001b[0;32m/opt/anaconda3/lib/python3.12/site-packages/sdv/sequential/par.py:101\u001b[0m, in \u001b[0;36mPARSynthesizer.__init__\u001b[0;34m(self, metadata, enforce_min_max_values, enforce_rounding, locales, context_columns, segment_size, epochs, sample_size, cuda, verbose)\u001b[0m\n\u001b[1;32m     99\u001b[0m \u001b[38;5;28mself\u001b[39m\u001b[38;5;241m.\u001b[39m_sequence_key \u001b[38;5;241m=\u001b[39m \u001b[38;5;28mlist\u001b[39m(_cast_to_iterable(sequence_key)) \u001b[38;5;28;01mif\u001b[39;00m sequence_key \u001b[38;5;28;01melse\u001b[39;00m \u001b[38;5;28;01mNone\u001b[39;00m\n\u001b[1;32m    100\u001b[0m \u001b[38;5;28;01mif\u001b[39;00m \u001b[38;5;129;01mnot\u001b[39;00m \u001b[38;5;28mself\u001b[39m\u001b[38;5;241m.\u001b[39m_sequence_key:\n\u001b[0;32m--> 101\u001b[0m     \u001b[38;5;28;01mraise\u001b[39;00m SynthesizerInputError(\n\u001b[1;32m    102\u001b[0m         \u001b[38;5;124m'\u001b[39m\u001b[38;5;124mThe PARSythesizer is designed for multi-sequence data, identifiable through a \u001b[39m\u001b[38;5;124m'\u001b[39m\n\u001b[1;32m    103\u001b[0m         \u001b[38;5;124m'\u001b[39m\u001b[38;5;124msequence key. Your metadata does not include a sequence key.\u001b[39m\u001b[38;5;124m'\u001b[39m\n\u001b[1;32m    104\u001b[0m     )\n\u001b[1;32m    106\u001b[0m \u001b[38;5;28mself\u001b[39m\u001b[38;5;241m.\u001b[39m_sequence_index \u001b[38;5;241m=\u001b[39m \u001b[38;5;28mself\u001b[39m\u001b[38;5;241m.\u001b[39mmetadata\u001b[38;5;241m.\u001b[39msequence_index\n\u001b[1;32m    107\u001b[0m \u001b[38;5;28mself\u001b[39m\u001b[38;5;241m.\u001b[39mcontext_columns \u001b[38;5;241m=\u001b[39m context_columns \u001b[38;5;129;01mor\u001b[39;00m []\n",
      "\u001b[0;31mSynthesizerInputError\u001b[0m: The PARSythesizer is designed for multi-sequence data, identifiable through a sequence key. Your metadata does not include a sequence key."
     ]
    }
   ],
   "source": [
    "from sdv.sequential import PARSynthesizer\n",
    "\n",
    "synthesizer = PARSynthesizer(metadata_s)\n",
    "\n",
    "synthesizer.fit(real_data_s)"
   ]
  },
  {
   "cell_type": "code",
   "execution_count": null,
   "id": "af73870c-04a1-44e1-8491-9a2431a86f15",
   "metadata": {},
   "outputs": [],
   "source": [
    "# Generate synthetic data\n",
    "synthetic_data = synthesizer.sample(scale=2)\n",
    "synthetic_data"
   ]
  },
  {
   "cell_type": "code",
   "execution_count": null,
   "id": "c5a080c8-f658-44d3-ae64-a743bfcd7ce4",
   "metadata": {},
   "outputs": [],
   "source": [
    "# Run diagnostic to compare real and synthetic data\n",
    "diagnostic = run_diagnostic(\n",
    "    real_data=real_data,\n",
    "    synthetic_data=synthetic_data,\n",
    "    metadata=metadata\n",
    ")"
   ]
  },
  {
   "cell_type": "code",
   "execution_count": null,
   "id": "71845765-f4fc-4054-a719-051dc722556b",
   "metadata": {},
   "outputs": [],
   "source": [
    "# Evaluate the quality of the synthetic data\n",
    "quality_report = evaluate_quality(\n",
    "    real_data,\n",
    "    synthetic_data,\n",
    "    metadata\n",
    ")"
   ]
  },
  {
   "cell_type": "code",
   "execution_count": null,
   "id": "faaa3481-3bae-46e8-aa15-db2d03186494",
   "metadata": {},
   "outputs": [],
   "source": [
    "# Check column shapes in the quality report\n",
    "print(quality_report.get_details('Column Shapes'))\n"
   ]
  },
  {
   "cell_type": "code",
   "execution_count": null,
   "id": "75a7287f-f4e8-4e65-84e3-27300e6e38b3",
   "metadata": {},
   "outputs": [],
   "source": [
    "# Create and display a column plot for a specific column\n",
    "fig = get_column_plot(\n",
    "    real_data=real_data,\n",
    "    synthetic_data=synthetic_data,\n",
    "    column_name='player_score',  # Replace with an actual column name from your dataset\n",
    "    table_name='players',         # Replace with the actual table name\n",
    "    metadata=metadata\n",
    ")\n",
    "fig.show()\n"
   ]
  },
  {
   "cell_type": "code",
   "execution_count": null,
   "id": "68e5f8da-7c28-40d9-92e1-be6ab3acb234",
   "metadata": {},
   "outputs": [],
   "source": [
    "# Create and display a column pair plot for two specific columns\n",
    "fig = get_column_pair_plot(\n",
    "    real_data=real_data,\n",
    "    synthetic_data=synthetic_data,\n",
    "    column_names=['overs', 'run_rate'],  # Replace with actual column names\n",
    "    table_name='matches',                  # Replace with the actual table name\n",
    "    metadata=metadata\n",
    ")\n",
    "fig.show()\n"
   ]
  },
  {
   "cell_type": "code",
   "execution_count": null,
   "id": "27d8d93e-c593-48f6-817f-6802792210bd",
   "metadata": {},
   "outputs": [],
   "source": [
    "# Save the synthesizer\n",
    "synthesizer.save('my_cricket_synthesizer.pkl')\n",
    "\n",
    "#  Load the synthesizer\n",
    "synthesizer = HMASynthesizer.load('my_cricket_synthesizer.pkl')\n"
   ]
  },
  {
   "cell_type": "code",
   "execution_count": null,
   "id": "07a72168-36b8-4f96-aa08-cc297c7eb253",
   "metadata": {},
   "outputs": [],
   "source": [
    "# Customize synthesizer parameters if needed\n",
    "custom_synthesizer = HMASynthesizer(\n",
    "    metadata,\n",
    "    verbose=False\n",
    ")\n"
   ]
  },
  {
   "cell_type": "code",
   "execution_count": null,
   "id": "39850a99-6fb8-47b7-a15f-9baafe72c884",
   "metadata": {},
   "outputs": [],
   "source": [
    "# Set table parameters for a specific table\n",
    "custom_synthesizer.set_table_parameters(\n",
    "    table_name='matches',  # Replace with the actual table name\n",
    "    table_parameters={\n",
    "        'default_distribution': 'truncnorm'\n",
    "    }\n",
    ")\n"
   ]
  },
  {
   "cell_type": "code",
   "execution_count": 94,
   "id": "04db756d-1ebb-4010-a765-764caf9b3b0b",
   "metadata": {},
   "outputs": [
    {
     "ename": "ValueError",
     "evalue": "Invalid dataset name 'cricket'. Make sure you have the correct modality for the dataset name or use 'get_available_demos' to get a list of demo datasets.",
     "output_type": "error",
     "traceback": [
      "\u001b[0;31m---------------------------------------------------------------------------\u001b[0m",
      "\u001b[0;31mNoSuchKey\u001b[0m                                 Traceback (most recent call last)",
      "File \u001b[0;32m/opt/anaconda3/lib/python3.12/site-packages/sdv/datasets/demo.py:54\u001b[0m, in \u001b[0;36m_download\u001b[0;34m(modality, dataset_name)\u001b[0m\n\u001b[1;32m     53\u001b[0m \u001b[38;5;28;01mtry\u001b[39;00m:\n\u001b[0;32m---> 54\u001b[0m     file_content \u001b[38;5;241m=\u001b[39m _get_data_from_bucket(object_key)\n\u001b[1;32m     55\u001b[0m \u001b[38;5;28;01mexcept\u001b[39;00m ClientError:\n",
      "File \u001b[0;32m/opt/anaconda3/lib/python3.12/site-packages/sdv/datasets/demo.py:45\u001b[0m, in \u001b[0;36m_get_data_from_bucket\u001b[0;34m(object_key)\u001b[0m\n\u001b[1;32m     44\u001b[0m s3 \u001b[38;5;241m=\u001b[39m session\u001b[38;5;241m.\u001b[39mclient(\u001b[38;5;124m'\u001b[39m\u001b[38;5;124ms3\u001b[39m\u001b[38;5;124m'\u001b[39m, config\u001b[38;5;241m=\u001b[39mConfig(signature_version\u001b[38;5;241m=\u001b[39mSIGNATURE_VERSION))\n\u001b[0;32m---> 45\u001b[0m response \u001b[38;5;241m=\u001b[39m s3\u001b[38;5;241m.\u001b[39mget_object(Bucket\u001b[38;5;241m=\u001b[39mBUCKET, Key\u001b[38;5;241m=\u001b[39mobject_key)\n\u001b[1;32m     46\u001b[0m \u001b[38;5;28;01mreturn\u001b[39;00m response[\u001b[38;5;124m'\u001b[39m\u001b[38;5;124mBody\u001b[39m\u001b[38;5;124m'\u001b[39m]\u001b[38;5;241m.\u001b[39mread()\n",
      "File \u001b[0;32m/opt/anaconda3/lib/python3.12/site-packages/botocore/client.py:569\u001b[0m, in \u001b[0;36mClientCreator._create_api_method.<locals>._api_call\u001b[0;34m(self, *args, **kwargs)\u001b[0m\n\u001b[1;32m    568\u001b[0m \u001b[38;5;66;03m# The \"self\" in this scope is referring to the BaseClient.\u001b[39;00m\n\u001b[0;32m--> 569\u001b[0m \u001b[38;5;28;01mreturn\u001b[39;00m \u001b[38;5;28mself\u001b[39m\u001b[38;5;241m.\u001b[39m_make_api_call(operation_name, kwargs)\n",
      "File \u001b[0;32m/opt/anaconda3/lib/python3.12/site-packages/botocore/client.py:1023\u001b[0m, in \u001b[0;36mBaseClient._make_api_call\u001b[0;34m(self, operation_name, api_params)\u001b[0m\n\u001b[1;32m   1022\u001b[0m     error_class \u001b[38;5;241m=\u001b[39m \u001b[38;5;28mself\u001b[39m\u001b[38;5;241m.\u001b[39mexceptions\u001b[38;5;241m.\u001b[39mfrom_code(error_code)\n\u001b[0;32m-> 1023\u001b[0m     \u001b[38;5;28;01mraise\u001b[39;00m error_class(parsed_response, operation_name)\n\u001b[1;32m   1024\u001b[0m \u001b[38;5;28;01melse\u001b[39;00m:\n",
      "\u001b[0;31mNoSuchKey\u001b[0m: An error occurred (NoSuchKey) when calling the GetObject operation: The specified key does not exist.",
      "\nDuring handling of the above exception, another exception occurred:\n",
      "\u001b[0;31mValueError\u001b[0m                                Traceback (most recent call last)",
      "Cell \u001b[0;32mIn[94], line 7\u001b[0m\n\u001b[1;32m      4\u001b[0m \u001b[38;5;28;01mfrom\u001b[39;00m \u001b[38;5;21;01msdv\u001b[39;00m\u001b[38;5;21;01m.\u001b[39;00m\u001b[38;5;21;01mevaluation\u001b[39;00m\u001b[38;5;21;01m.\u001b[39;00m\u001b[38;5;21;01mmulti_table\u001b[39;00m \u001b[38;5;28;01mimport\u001b[39;00m run_diagnostic, evaluate_quality, get_column_plot, get_column_pair_plot\n\u001b[1;32m      6\u001b[0m \u001b[38;5;66;03m# Step 2: Download the cricket dataset (assuming it's structured similarly to the hotel dataset)\u001b[39;00m\n\u001b[0;32m----> 7\u001b[0m real_data, metadata \u001b[38;5;241m=\u001b[39m download_demo(\n\u001b[1;32m      8\u001b[0m     modality\u001b[38;5;241m=\u001b[39m\u001b[38;5;124m'\u001b[39m\u001b[38;5;124mmulti_table\u001b[39m\u001b[38;5;124m'\u001b[39m,\n\u001b[1;32m      9\u001b[0m     dataset_name\u001b[38;5;241m=\u001b[39m\u001b[38;5;124m'\u001b[39m\u001b[38;5;124mcricket\u001b[39m\u001b[38;5;124m'\u001b[39m  \u001b[38;5;66;03m# Replace 'fake_hotels' with your cricket dataset name if it exists\u001b[39;00m\n\u001b[1;32m     10\u001b[0m )\n\u001b[1;32m     12\u001b[0m \u001b[38;5;66;03m# Step 3: Display the first few rows of each table in the dataset\u001b[39;00m\n\u001b[1;32m     13\u001b[0m \u001b[38;5;28mprint\u001b[39m(real_data[\u001b[38;5;124m'\u001b[39m\u001b[38;5;124mmatches\u001b[39m\u001b[38;5;124m'\u001b[39m]\u001b[38;5;241m.\u001b[39mhead(\u001b[38;5;241m3\u001b[39m))  \u001b[38;5;66;03m# Replace 'matches' with the actual table name in your dataset\u001b[39;00m\n",
      "File \u001b[0;32m/opt/anaconda3/lib/python3.12/site-packages/sdv/datasets/demo.py:149\u001b[0m, in \u001b[0;36mdownload_demo\u001b[0;34m(modality, dataset_name, output_folder_name)\u001b[0m\n\u001b[1;32m    147\u001b[0m _validate_modalities(modality)\n\u001b[1;32m    148\u001b[0m _validate_output_folder(output_folder_name)\n\u001b[0;32m--> 149\u001b[0m bytes_io \u001b[38;5;241m=\u001b[39m _download(modality, dataset_name)\n\u001b[1;32m    150\u001b[0m in_memory_directory \u001b[38;5;241m=\u001b[39m _extract_data(bytes_io, output_folder_name)\n\u001b[1;32m    151\u001b[0m data \u001b[38;5;241m=\u001b[39m _get_data(modality, output_folder_name, in_memory_directory)\n",
      "File \u001b[0;32m/opt/anaconda3/lib/python3.12/site-packages/sdv/datasets/demo.py:56\u001b[0m, in \u001b[0;36m_download\u001b[0;34m(modality, dataset_name)\u001b[0m\n\u001b[1;32m     54\u001b[0m     file_content \u001b[38;5;241m=\u001b[39m _get_data_from_bucket(object_key)\n\u001b[1;32m     55\u001b[0m \u001b[38;5;28;01mexcept\u001b[39;00m ClientError:\n\u001b[0;32m---> 56\u001b[0m     \u001b[38;5;28;01mraise\u001b[39;00m \u001b[38;5;167;01mValueError\u001b[39;00m(\n\u001b[1;32m     57\u001b[0m         \u001b[38;5;124mf\u001b[39m\u001b[38;5;124m\"\u001b[39m\u001b[38;5;124mInvalid dataset name \u001b[39m\u001b[38;5;124m'\u001b[39m\u001b[38;5;132;01m{\u001b[39;00mdataset_name\u001b[38;5;132;01m}\u001b[39;00m\u001b[38;5;124m'\u001b[39m\u001b[38;5;124m. \u001b[39m\u001b[38;5;124m\"\u001b[39m\n\u001b[1;32m     58\u001b[0m         \u001b[38;5;124m'\u001b[39m\u001b[38;5;124mMake sure you have the correct modality for the dataset name or \u001b[39m\u001b[38;5;124m'\u001b[39m\n\u001b[1;32m     59\u001b[0m         \u001b[38;5;124m\"\u001b[39m\u001b[38;5;124muse \u001b[39m\u001b[38;5;124m'\u001b[39m\u001b[38;5;124mget_available_demos\u001b[39m\u001b[38;5;124m'\u001b[39m\u001b[38;5;124m to get a list of demo datasets.\u001b[39m\u001b[38;5;124m\"\u001b[39m\n\u001b[1;32m     60\u001b[0m     )\n\u001b[1;32m     62\u001b[0m \u001b[38;5;28;01mreturn\u001b[39;00m io\u001b[38;5;241m.\u001b[39mBytesIO(file_content)\n",
      "\u001b[0;31mValueError\u001b[0m: Invalid dataset name 'cricket'. Make sure you have the correct modality for the dataset name or use 'get_available_demos' to get a list of demo datasets."
     ]
    }
   ],
   "source": [
    "# Fit the custom synthesizer on the real data\n",
    "custom_synthesizer.fit(real_data)\n",
    "\n",
    "# Get learned distributions for a specific table\n",
    "learned_distributions = custom_synthesizer.get_learned_distributions(table_name='matches')  # Replace with actual table name\n",
    "print(learned_distributions['run_rate'])  # Replace with an actual column name\n"
   ]
  },
  {
   "cell_type": "code",
   "execution_count": 3,
   "id": "0637820e-d299-49be-95eb-282dc40ade4d",
   "metadata": {},
   "outputs": [
    {
     "name": "stdout",
     "output_type": "stream",
     "text": [
      "\u001b[31mERROR: Ignored the following yanked versions: 1.13.0\u001b[0m\u001b[31m\n",
      "\u001b[0m\u001b[31mERROR: Ignored the following versions that require a different python version: 0.10.0 Requires-Python >=3.6,<3.9; 0.10.0.dev0 Requires-Python >=3.6,<3.9; 0.10.1 Requires-Python >=3.6,<3.9; 0.10.1.dev0 Requires-Python >=3.6,<3.9; 0.11.0 Requires-Python >=3.6,<3.9; 0.11.0.dev0 Requires-Python >=3.6,<3.9; 0.12.0 Requires-Python >=3.6,<3.9; 0.12.0.dev0 Requires-Python >=3.6,<3.9; 0.12.0.dev1 Requires-Python >=3.6,<3.9; 0.12.1 Requires-Python >=3.6,<3.9; 0.12.1.dev0 Requires-Python >=3.6,<3.9; 0.13.0 Requires-Python >=3.6,<3.10; 0.13.0.dev0 Requires-Python >=3.6,<3.10; 0.13.1 Requires-Python >=3.6,<3.10; 0.13.1.dev0 Requires-Python >=3.6,<3.10; 0.14.0 Requires-Python >=3.6,<3.10; 0.14.0.dev0 Requires-Python >=3.6,<3.10; 0.14.0.dev1 Requires-Python >=3.6,<3.10; 0.14.0.dev2 Requires-Python >=3.6,<3.10; 0.14.1 Requires-Python >=3.6,<3.10; 0.14.1.dev0 Requires-Python >=3.6,<3.10; 0.15.0 Requires-Python >=3.6,<3.10; 0.15.0.dev0 Requires-Python >=3.6,<3.10; 0.15.0.dev1 Requires-Python >=3.6,<3.10; 0.16.0 Requires-Python >=3.6,<3.10; 0.16.0.dev0 Requires-Python >=3.6,<3.10; 0.16.0.dev1 Requires-Python >=3.6,<3.10; 0.16.0.dev2 Requires-Python >=3.6,<3.10; 0.16.0.dev3 Requires-Python >=3.6,<3.10; 0.16.0.dev4 Requires-Python >=3.6,<3.10; 0.16.0.dev5 Requires-Python >=3.6,<3.10; 0.17.0 Requires-Python >=3.6,<3.10; 0.17.0.dev0 Requires-Python >=3.6,<3.10; 0.17.0.dev1 Requires-Python >=3.6,<3.10; 0.17.0.dev2 Requires-Python >=3.6,<3.10; 0.17.1 Requires-Python >=3.6,<3.10; 0.17.1.dev0 Requires-Python >=3.6,<3.10; 0.17.2 Requires-Python >=3.6,<3.10; 0.17.2.dev0 Requires-Python >=3.6,<3.10; 0.18.0 Requires-Python >=3.7,<3.11; 0.18.0.dev0 Requires-Python >=3.7,<3.11; 0.3.3 Requires-Python >=3.5,<3.8; 0.3.4 Requires-Python >=3.5,<3.8; 0.3.4.dev0 Requires-Python >=3.5,<3.8; 0.3.5 Requires-Python >=3.5,<3.8; 0.3.6 Requires-Python >=3.5,<3.8; 0.3.6.dev0 Requires-Python >=3.5,<3.8; 0.4.0 Requires-Python >=3.5,<3.9; 0.4.0.dev0 Requires-Python >=3.5,<3.9; 0.4.1 Requires-Python >=3.5,<3.9; 0.4.1.dev0 Requires-Python >=3.5,<3.9; 0.4.2 Requires-Python >=3.5,<3.9; 0.4.3 Requires-Python >=3.5,<3.9; 0.4.4 Requires-Python >=3.5,<3.9; 0.4.4.dev0 Requires-Python >=3.5,<3.9; 0.4.5 Requires-Python >=3.6,<3.9; 0.4.6.dev0 Requires-Python >=3.6,<3.9; 0.4.6.dev1 Requires-Python >=3.6,<3.9; 0.4.6.dev2 Requires-Python >=3.6,<3.9; 0.5.0 Requires-Python >=3.6,<3.9; 0.5.0.dev0 Requires-Python >=3.6,<3.9; 0.6.0 Requires-Python >=3.6,<3.9; 0.6.0.dev0 Requires-Python >=3.6,<3.9; 0.6.1 Requires-Python >=3.6,<3.9; 0.6.2.dev0 Requires-Python >=3.6,<3.9; 0.6.2.dev1 Requires-Python >=3.6,<3.9; 0.6.2.dev2 Requires-Python >=3.6,<3.9; 0.7.0 Requires-Python >=3.6,<3.9; 0.7.0.dev0 Requires-Python >=3.6,<3.9; 0.7.0.dev1 Requires-Python >=3.6,<3.9; 0.8.0 Requires-Python >=3.6,<3.9; 0.8.0.dev0 Requires-Python >=3.6,<3.9; 0.9.0 Requires-Python >=3.6,<3.9; 0.9.0.dev0 Requires-Python >=3.6,<3.9; 0.9.1 Requires-Python >=3.6,<3.9; 0.9.1.dev0 Requires-Python >=3.6,<3.9; 0.9.1.dev1 Requires-Python >=3.6,<3.9; 1.0.0 Requires-Python >=3.7,<3.11; 1.0.0b0 Requires-Python >=3.7,<3.11; 1.0.0b1 Requires-Python >=3.7,<3.11; 1.0.0rc0 Requires-Python >=3.7,<3.11; 1.0.1 Requires-Python >=3.7,<3.11; 1.0.1.dev0 Requires-Python >=3.7,<3.11; 1.1.0 Requires-Python >=3.7,<3.11; 1.1.0.dev0 Requires-Python >=3.7,<3.11; 1.10.0 Requires-Python >=3.8,<3.12; 1.10.0.dev0 Requires-Python >=3.8,<3.12; 1.11.0 Requires-Python <3.12,>=3.8; 1.11.0.dev0 Requires-Python <3.12,>=3.8; 1.2.0 Requires-Python >=3.7,<3.11; 1.2.0.dev0 Requires-Python >=3.7,<3.11; 1.2.0.dev1 Requires-Python >=3.7,<3.11; 1.2.1 Requires-Python >=3.8,<3.11; 1.2.1.dev0 Requires-Python >=3.8,<3.11; 1.2.2.dev0 Requires-Python >=3.8,<3.11; 1.2.2.dev1 Requires-Python >=3.8,<3.11; 1.3.0 Requires-Python >=3.8,<3.12; 1.3.0.dev0 Requires-Python >=3.8,<3.12; 1.3.0.dev1 Requires-Python >=3.8,<3.12; 1.4.0 Requires-Python >=3.8,<3.12; 1.4.0.dev0 Requires-Python >=3.8,<3.12; 1.4.0.dev1 Requires-Python >=3.8,<3.12; 1.5.0 Requires-Python >=3.8,<3.12; 1.5.0.dev0 Requires-Python >=3.8,<3.12; 1.6.0 Requires-Python >=3.8,<3.12; 1.6.0.dev0 Requires-Python >=3.8,<3.12; 1.6.0.dev1 Requires-Python >=3.8,<3.12; 1.7.0 Requires-Python >=3.8,<3.12; 1.7.0.dev0 Requires-Python >=3.8,<3.12; 1.8.0 Requires-Python >=3.8,<3.12; 1.8.0.dev0 Requires-Python >=3.8,<3.12; 1.9.0 Requires-Python >=3.8,<3.12; 1.9.0.dev0 Requires-Python >=3.8,<3.12\u001b[0m\u001b[31m\n",
      "\u001b[0m\u001b[31mERROR: Could not find a version that satisfies the requirement sdv==0.18.0 (from versions: 0.0.0, 0.1.0, 0.1.1, 0.1.2, 0.2.0.dev0, 0.2.0, 0.2.1, 0.2.2, 0.3.0, 0.3.1, 0.3.2, 1.12.0.dev0, 1.12.0, 1.12.1.dev0, 1.12.1.dev1, 1.12.1, 1.13.0.dev0, 1.13.1.dev0, 1.13.1, 1.14.0.dev0, 1.14.0, 1.15.0.dev0, 1.15.0, 1.16.0.dev0, 1.16.0, 1.16.1.dev0, 1.16.1, 1.16.2.dev0, 1.16.2, 1.17.0.dev0, 1.17.0.dev1, 1.17.0, 1.17.1.dev0, 1.17.1)\u001b[0m\u001b[31m\n",
      "\u001b[0m\u001b[31mERROR: No matching distribution found for sdv==0.18.0\u001b[0m\u001b[31m\n",
      "\u001b[0m"
     ]
    }
   ],
   "source": [
    "!pip install sdv==0.18.0"
   ]
  },
  {
   "cell_type": "code",
   "execution_count": 1,
   "id": "e0f7aafc-a302-4245-b339-ad48cba4d7ed",
   "metadata": {},
   "outputs": [
    {
     "data": {
      "text/plain": [
       "'/bin/bash -c \"$(curl -fsSL https://raw.githubusercontent.com/Homebrew/install/HEAD/install.sh)\"\\nbrew --version\\nbrew install pyenv\\necho \\'export PATH=\"$HOME/.pyenv/bin:$PATH\"\\' >> ~/.zshrc\\necho \\'eval \"$(pyenv init --path)\"\\' >> ~/.zshrc\\nsource ~/.zshrc\\npyenv install 3.10.0\\npyenv global 3.10.0\\npip install sdv==0.18.0'"
      ]
     },
     "execution_count": 1,
     "metadata": {},
     "output_type": "execute_result"
    }
   ],
   "source": [
    "'''/bin/bash -c \"$(curl -fsSL https://raw.githubusercontent.com/Homebrew/install/HEAD/install.sh)\"\n",
    "brew --version\n",
    "brew install pyenv\n",
    "echo 'export PATH=\"$HOME/.pyenv/bin:$PATH\"' >> ~/.zshrc\n",
    "echo 'eval \"$(pyenv init --path)\"' >> ~/.zshrc\n",
    "source ~/.zshrc\n",
    "pyenv install 3.10.0\n",
    "pyenv global 3.10.0\n",
    "pip install sdv==0.18.0'''"
   ]
  },
  {
   "cell_type": "code",
   "execution_count": null,
   "id": "dd4f2087-3044-4263-a1b8-e7f73b07c23a",
   "metadata": {},
   "outputs": [],
   "source": []
  }
 ],
 "metadata": {
  "kernelspec": {
   "display_name": "Python 3 (ipykernel)",
   "language": "python",
   "name": "python3"
  },
  "language_info": {
   "codemirror_mode": {
    "name": "ipython",
    "version": 3
   },
   "file_extension": ".py",
   "mimetype": "text/x-python",
   "name": "python",
   "nbconvert_exporter": "python",
   "pygments_lexer": "ipython3",
   "version": "3.12.4"
  }
 },
 "nbformat": 4,
 "nbformat_minor": 5
}
